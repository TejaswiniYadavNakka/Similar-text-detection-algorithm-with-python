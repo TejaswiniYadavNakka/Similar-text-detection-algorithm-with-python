{
  "cells": [
    {
      "cell_type": "code",
      "execution_count": 1,
      "id": "331272ce-d290-4366-ad3b-07147b020e8f",
      "metadata": {
        "colab": {
          "base_uri": "https://localhost:8080/"
        },
        "id": "331272ce-d290-4366-ad3b-07147b020e8f",
        "outputId": "50b421d5-2cfb-45c3-f204-0c95bc120123"
      },
      "outputs": [
        {
          "output_type": "stream",
          "name": "stdout",
          "text": [
            "Requirement already satisfied: kaggle in /usr/local/lib/python3.10/dist-packages (1.5.16)\n",
            "Collecting pyspark\n",
            "  Downloading pyspark-3.5.1.tar.gz (317.0 MB)\n",
            "\u001b[2K     \u001b[90m━━━━━━━━━━━━━━━━━━━━━━━━━━━━━━━━━━━━━━━━\u001b[0m \u001b[32m317.0/317.0 MB\u001b[0m \u001b[31m2.1 MB/s\u001b[0m eta \u001b[36m0:00:00\u001b[0m\n",
            "\u001b[?25h  Preparing metadata (setup.py) ... \u001b[?25l\u001b[?25hdone\n",
            "Requirement already satisfied: six>=1.10 in /usr/local/lib/python3.10/dist-packages (from kaggle) (1.16.0)\n",
            "Requirement already satisfied: certifi in /usr/local/lib/python3.10/dist-packages (from kaggle) (2024.2.2)\n",
            "Requirement already satisfied: python-dateutil in /usr/local/lib/python3.10/dist-packages (from kaggle) (2.8.2)\n",
            "Requirement already satisfied: requests in /usr/local/lib/python3.10/dist-packages (from kaggle) (2.31.0)\n",
            "Requirement already satisfied: tqdm in /usr/local/lib/python3.10/dist-packages (from kaggle) (4.66.2)\n",
            "Requirement already satisfied: python-slugify in /usr/local/lib/python3.10/dist-packages (from kaggle) (8.0.4)\n",
            "Requirement already satisfied: urllib3 in /usr/local/lib/python3.10/dist-packages (from kaggle) (2.0.7)\n",
            "Requirement already satisfied: bleach in /usr/local/lib/python3.10/dist-packages (from kaggle) (6.1.0)\n",
            "Requirement already satisfied: py4j==0.10.9.7 in /usr/local/lib/python3.10/dist-packages (from pyspark) (0.10.9.7)\n",
            "Requirement already satisfied: webencodings in /usr/local/lib/python3.10/dist-packages (from bleach->kaggle) (0.5.1)\n",
            "Requirement already satisfied: text-unidecode>=1.3 in /usr/local/lib/python3.10/dist-packages (from python-slugify->kaggle) (1.3)\n",
            "Requirement already satisfied: charset-normalizer<4,>=2 in /usr/local/lib/python3.10/dist-packages (from requests->kaggle) (3.3.2)\n",
            "Requirement already satisfied: idna<4,>=2.5 in /usr/local/lib/python3.10/dist-packages (from requests->kaggle) (3.6)\n",
            "Building wheels for collected packages: pyspark\n",
            "  Building wheel for pyspark (setup.py) ... \u001b[?25l\u001b[?25hdone\n",
            "  Created wheel for pyspark: filename=pyspark-3.5.1-py2.py3-none-any.whl size=317488491 sha256=a5df936e005edad703136626003f90c519012eaa89ee58afb6aead4d4aba7691\n",
            "  Stored in directory: /root/.cache/pip/wheels/80/1d/60/2c256ed38dddce2fdd93be545214a63e02fbd8d74fb0b7f3a6\n",
            "Successfully built pyspark\n",
            "Installing collected packages: pyspark\n",
            "Successfully installed pyspark-3.5.1\n",
            "Collecting findspark\n",
            "  Downloading findspark-2.0.1-py2.py3-none-any.whl (4.4 kB)\n",
            "Installing collected packages: findspark\n",
            "Successfully installed findspark-2.0.1\n"
          ]
        }
      ],
      "source": [
        "!pip install kaggle pyspark\n",
        "!pip install findspark\n",
        "import warnings\n",
        "warnings.filterwarnings(\"ignore\")"
      ]
    },
    {
      "cell_type": "code",
      "execution_count": 2,
      "id": "1506967a-2f9a-4017-bcc2-106b7a491851",
      "metadata": {
        "id": "1506967a-2f9a-4017-bcc2-106b7a491851"
      },
      "outputs": [],
      "source": [
        "#connecting to Kaggle\n",
        "import os\n",
        "os.environ['KAGGLE_USERNAME'] = 'xxxxxxxxx'  # Replace with your Kaggle username",
        "os.environ['KAGGLE_KEY'] = 'xxxxxxxxx'  # Replace with your Kaggle key"
      ]
    },
    {
      "cell_type": "code",
      "execution_count": 3,
      "id": "54042cc0-c233-4de8-b382-5358f4fe2476",
      "metadata": {
        "colab": {
          "base_uri": "https://localhost:8080/"
        },
        "id": "54042cc0-c233-4de8-b382-5358f4fe2476",
        "outputId": "a6f3df69-2fa6-4c2a-b0de-4a0665e06774"
      },
      "outputs": [
        {
          "output_type": "stream",
          "name": "stdout",
          "text": [
            "Downloading 1-3m-linkedin-jobs-and-skills-2024.zip to /content\n",
            " 99% 1.86G/1.88G [00:20<00:00, 41.5MB/s]\n",
            "100% 1.88G/1.88G [00:21<00:00, 95.8MB/s]\n"
          ]
        }
      ],
      "source": [
        "#downloading the dataset\n",
        "!kaggle datasets download -d asaniczka/1-3m-linkedin-jobs-and-skills-2024"
      ]
    },
    {
      "cell_type": "code",
      "execution_count": 4,
      "id": "7a7aa2c7-adb3-45ca-9b60-474c9416a382",
      "metadata": {
        "id": "7a7aa2c7-adb3-45ca-9b60-474c9416a382"
      },
      "outputs": [],
      "source": [
        "#extracting the download zip to a folder named dataset\n",
        "import zipfile\n",
        "with zipfile.ZipFile('1-3m-linkedin-jobs-and-skills-2024.zip', 'r') as zip_ref:\n",
        "    zip_ref.extractall('dataset')"
      ]
    },
    {
      "cell_type": "code",
      "execution_count": 5,
      "id": "bWmWque49tQ_",
      "metadata": {
        "id": "bWmWque49tQ_"
      },
      "outputs": [],
      "source": [
        "#setting path for dataset\n",
        "file_path = 'dataset/job_summary.csv'"
      ]
    },
    {
      "cell_type": "code",
      "execution_count": 6,
      "id": "iqxs_BhZ-Lzq",
      "metadata": {
        "id": "iqxs_BhZ-Lzq"
      },
      "outputs": [],
      "source": [
        "from pyspark.sql.functions import udf\n",
        "from pyspark.sql.types import ArrayType, StringType\n",
        "import re\n",
        "import hashlib\n",
        "import numpy as np\n",
        "from pyspark.sql import SparkSession\n",
        "from pyspark.ml.feature import Tokenizer, MinHashLSH\n",
        "from pyspark.ml.linalg import Vectors\n",
        "from pyspark.ml.pipeline import Pipeline\n",
        "from pyspark.sql.functions import col\n",
        "from pyspark.sql.types import IntegerType\n",
        "from pyspark.sql.functions import monotonically_increasing_id\n"
      ]
    },
    {
      "cell_type": "code",
      "execution_count": 7,
      "id": "xh0iGGzJlnt0",
      "metadata": {
        "id": "xh0iGGzJlnt0"
      },
      "outputs": [],
      "source": [
        "# Initialize SparkSession\n",
        "from pyspark.sql import SparkSession\n",
        "\n",
        "spark = SparkSession.builder \\\n",
        "        .master(\"local\") \\\n",
        "        .appName(\"JobDescriptionSimilarity\") \\\n",
        "        .getOrCreate()"
      ]
    },
    {
      "cell_type": "code",
      "execution_count": 8,
      "id": "0Cn_GFVWlnK2",
      "metadata": {
        "colab": {
          "base_uri": "https://localhost:8080/",
          "height": 196
        },
        "id": "0Cn_GFVWlnK2",
        "outputId": "29271cae-3ccb-4025-b123-d9a2ccbfe0e3"
      },
      "outputs": [
        {
          "output_type": "execute_result",
          "data": {
            "text/plain": [
              "<SparkContext master=local appName=JobDescriptionSimilarity>"
            ],
            "text/html": [
              "\n",
              "        <div>\n",
              "            <p><b>SparkContext</b></p>\n",
              "\n",
              "            <p><a href=\"http://748077f409f2:4040\">Spark UI</a></p>\n",
              "\n",
              "            <dl>\n",
              "              <dt>Version</dt>\n",
              "                <dd><code>v3.5.1</code></dd>\n",
              "              <dt>Master</dt>\n",
              "                <dd><code>local</code></dd>\n",
              "              <dt>AppName</dt>\n",
              "                <dd><code>JobDescriptionSimilarity</code></dd>\n",
              "            </dl>\n",
              "        </div>\n",
              "        "
            ]
          },
          "metadata": {},
          "execution_count": 8
        }
      ],
      "source": [
        "spark.sparkContext"
      ]
    },
    {
      "cell_type": "code",
      "execution_count": 9,
      "id": "vSbp-yf3lnlo",
      "metadata": {
        "id": "vSbp-yf3lnlo"
      },
      "outputs": [],
      "source": [
        "from pyspark.sql.types import StructType, StructField, StringType\n",
        "\n",
        "#Reading the dataset\n",
        "schema = StructType([\n",
        "    StructField(\"job_link\", StringType(), True),\n",
        "    StructField(\"job_summary\", StringType(), True)\n",
        "])\n",
        "\n",
        "df = spark.read \\\n",
        "    .option(\"header\", \"true\") \\\n",
        "    .option(\"multiLine\", \"true\") \\\n",
        "    .option(\"escape\", \"\\\"\") \\\n",
        "    .option(\"quote\", \"\\\"\") \\\n",
        "    .schema(schema) \\\n",
        "    .csv(file_path)\n"
      ]
    },
    {
      "cell_type": "code",
      "execution_count": 10,
      "id": "y92Ec5zVl_YB",
      "metadata": {
        "colab": {
          "base_uri": "https://localhost:8080/"
        },
        "id": "y92Ec5zVl_YB",
        "outputId": "6aa37869-3c2b-42c8-ef3c-bab6cb6f6c78"
      },
      "outputs": [
        {
          "output_type": "stream",
          "name": "stdout",
          "text": [
            "+---------------------------------------------------------------------------------------------------------+----------------------------------------------------------------------------------------------------------------------------------------------------------------------------------------------------------------------------------------------------------------------------------------------------------------------------------------------------------------------------------------------------------------------------------------------------------------------------------------------------------------------------------------------------------------------------------------------------------------------------------------------------------------------------------------------------------------------------------------------------------------------------------------------------------------------------------------------------------------------------------------------------------------------------------------------------------------------------------------------------------------------------------------------------------------------------------------------------------------------------------------------------------------------------------------------------------------------------------------------------------------------------------------------------------------------------------------------------------------------------------------------------------------------------------------------------------------------------------------------------------------------------------------------------------------------------------------------------------------------------------------------------------------------------------------------------------------------------------------------------------------------------------------------------------------------------------------------------------------------------------------------------------------------------------------------------------------------------------------------------------------------------------------------------------------------------------------------------------------------------------------------------------------------------------------------------------------------------------------------------------------------------------------------------------------------------------------------------------------------------------------------------------------------------------------------------------------------------------------------------------------------------------------------------------------------------------------------------------------------------------------------------------------------------------------------------------------------------------------------------------------------------------------------------------------------------------------------------------------------------------------------------------------------------------------------------------------------------------------------------------------------------------------------------------------------------------------------------------------------------------------------------------------------------------------------------------------------------------------------------------------------------------------------------------------------------------------------------------------------------------------------------------------------------------------------------------------------------------------------------------------------------------------------------------------------------------------------------------------------------------------------------------------------------------------------------------------------------------------------------------------------------------------------------------------------------------------------------------------------------------------------------------------------------------------------------------------------------------------------------------------------------------------------------------------------------------------------------------------------------------------------------------------------------------------------------------------------------------------------------------------------------------------------------------------------------------------------------------------------------------------------------------------------------------------------------------------------------------------------------------------------------------------------------------------------------------------------------------------------------------------------------------------------------------------------------------------------------------------------------------------------------------------------------------------------------------------------------------------------------------------------------------------------------------------------------------------------------------------------------------------------------------------------------------------------------------------------------------------------------------------------------------------------------------------------------------------------------------------------------------------------------------------------------------------------------------------------------------------------------------------------------------------------------------------------------------------------------------------------------------------------------------------------------------------------------+\n",
            "|job_link                                                                                                 |job_summary                                                                                                                                                                                                                                                                                                                                                                                                                                                                                                                                                                                                                                                                                                                                                                                                                                                                                                                                                                                                                                                                                                                                                                                                                                                                                                                                                                                                                                                                                                                                                                                                                                                                                                                                                                                                                                                                                                                                                                                                                                                                                                                                                                                                                                                                                                                                                                                                                                                                                                                                                                                                                                                                                                                                                                                                                                                                                                                                                                                                                                                                                                                                                                                                                                                                                                                                                                                                                                                                                                                                                                                                                                                                                                                                                                                                                                                                                                                                                                                                                                                                                                                                                                                                                                                                                                                                                                                                                                                                                                                                                                                                                                                                                                                                                                                                                                                                                                                                                                                                                                                                                                                                                                                                                                                                                                                                                                                                                                                                                                                                                                 |\n",
            "+---------------------------------------------------------------------------------------------------------+----------------------------------------------------------------------------------------------------------------------------------------------------------------------------------------------------------------------------------------------------------------------------------------------------------------------------------------------------------------------------------------------------------------------------------------------------------------------------------------------------------------------------------------------------------------------------------------------------------------------------------------------------------------------------------------------------------------------------------------------------------------------------------------------------------------------------------------------------------------------------------------------------------------------------------------------------------------------------------------------------------------------------------------------------------------------------------------------------------------------------------------------------------------------------------------------------------------------------------------------------------------------------------------------------------------------------------------------------------------------------------------------------------------------------------------------------------------------------------------------------------------------------------------------------------------------------------------------------------------------------------------------------------------------------------------------------------------------------------------------------------------------------------------------------------------------------------------------------------------------------------------------------------------------------------------------------------------------------------------------------------------------------------------------------------------------------------------------------------------------------------------------------------------------------------------------------------------------------------------------------------------------------------------------------------------------------------------------------------------------------------------------------------------------------------------------------------------------------------------------------------------------------------------------------------------------------------------------------------------------------------------------------------------------------------------------------------------------------------------------------------------------------------------------------------------------------------------------------------------------------------------------------------------------------------------------------------------------------------------------------------------------------------------------------------------------------------------------------------------------------------------------------------------------------------------------------------------------------------------------------------------------------------------------------------------------------------------------------------------------------------------------------------------------------------------------------------------------------------------------------------------------------------------------------------------------------------------------------------------------------------------------------------------------------------------------------------------------------------------------------------------------------------------------------------------------------------------------------------------------------------------------------------------------------------------------------------------------------------------------------------------------------------------------------------------------------------------------------------------------------------------------------------------------------------------------------------------------------------------------------------------------------------------------------------------------------------------------------------------------------------------------------------------------------------------------------------------------------------------------------------------------------------------------------------------------------------------------------------------------------------------------------------------------------------------------------------------------------------------------------------------------------------------------------------------------------------------------------------------------------------------------------------------------------------------------------------------------------------------------------------------------------------------------------------------------------------------------------------------------------------------------------------------------------------------------------------------------------------------------------------------------------------------------------------------------------------------------------------------------------------------------------------------------------------------------------------------------------------------------------------------------------------------------------------------------------+\n",
            "|https://www.linkedin.com/jobs/view/restaurant-manager-at-rock-n-roll-sushi-3805551344                    |Rock N Roll Sushi is hiring a Restaurant Manager!\\nAs our Restaurant Manager, you’ll never be bored. You’ll be responsible for making sure our restaurant runs smoothly.\\nWe Offer\\nCompetitive compensation\\nInsurance benefits\\nBonus opportunities\\nA great work atmosphere\\nDuties/Responsibilities\\nEnsuring that our restaurant is fully and appropriately staffed at all times\\nMaintaining operational excellence so our restaurant is running efficiently and effectively\\nEnsuring that all laws, regulations, and guidelines are being followed\\nCreating a restaurant atmosphere that both patrons and employees enjoy\\nVarious other tasks as needed\\nRequirements\\nPrevious experience as a restaurant manager\\nExtensive food and beverage knowledge, and the ability to remember and recall ingredients and dishes to inform customers and wait staff\\nGreat leadership skills\\nFamiliarity with restaurant management software\\nDemonstrated ability to coordinate a staff\\nShow more\\nShow less                                                                                                                                                                                                                                                                                                                                                                                                                                                                                                                                                                                                                                                                                                                                                                                                                                                                                                                                                                                                                                                                                                                                                                                                                                                                                                                                                                                                                                                                                                                                                                                                                                                                                                                                                                                                                                                                                                                                                                                                                                                                                                                                                                                                                                                                                                                                                                                                                                                                                                                                                                                                                                                                                                                                                                                                                                                                                                                                                                                                                                                                                                                                                                                                                                                                                                                                                                                                                                                                                                                                                                                                                                                                                                                                                                                                                                                                                                                                                                                                                                                                                                                                                                                                                                                                                                                                                                                                                                                                                                                                                           |\n",
            "|https://www.linkedin.com/jobs/view/med-surg-registered-nurse-rn-at-touchette-regional-hospital-3732389852|Schedule\\n: PRN is required minimum 12 hours per period.\\nJob Summary\\nThe Registered Nurse (RN) is responsible for managing the individualized patient care by promoting and restoring patients' health through the nursing process; collaborating with physicians and multidisciplinary team members; providing physical and psychological support to patients, friends, and families; and supervising assigned team members.\\nFunctions And Duties\\nConducts an individualized patient assessment, prioritizing the data collection based on the patient’s immediate condition or needs within timeframe specified by client facility’s policies, procedures or protocols.\\nConducts ongoing assessments as determined by patient’s condition and/or the client facility’s policies, procedures or protocols and reprioritizes care accordingly.\\nDevelops plan of care that is individualized for the patient reflecting collaboration with other members of the healthcare team.\\nPerforms appropriate treatments as ordered by physician in an accurate and timely manner.\\nPerforms therapeutic nursing interventions as established by individualized plan of care for the patient and his/her family.\\nDelivers care with appropriate age and cultural competence to specific patient populations according to individualized needs.\\nProvides individualized patient/family education customized to the patient and his/her family.\\nDocuments patient assessment findings, physical/psychosocial responses to nursing intervention and progress towards problem resolution.\\nInitiates emergency resuscitative measures according to adult resuscitation and advanced life support protocols.\\nMaintains confidentiality in matters related to patient, family and client facility staff.\\nProvides care in a non-judgmental, non-discriminatory manner that is sensitive to the patient’s and family’s diversity, preserving their autonomy, dignity and rights.\\nReports patient condition to appropriate personnel during each shift.\\nMaintains current competency in nursing specialty by attending educational workshops; reviewing professional publications; establishing personal networks; participating in professional societies.\\nPerforms all other duties as assigned.\\nMinimum Qualifications\\nGraduate of an accredited school of nursing required.\\nNo experience required.\\nCurrent IL RN licensure in good standing in the state of practice, and all other states where license is held.\\nBLS certification required.\\nACLS certification obtained within 6 months of hire is required.\\nPhysical Demands\\nConstant standing and walking.\\nFrequent use of hearing and speech to share information through oral communication.\\nFrequent use of hearing to distinguish body sounds and/or hear alarms, malfunctioning machinery, etc.\\nFrequent lifting/carrying and pushing/pulling objects weighing 0-25 lbs.\\nFrequent reaching, gripping, and keyboard use/data entry.\\nFrequent use of vision for distances near (20 inches or less) and far (20 feet or more) and to identify and distinguish colors.\\nOccasional bending, stooping, crawling, kneeling, sitting, squatting and repetitive foot/leg and hand/arm movements.\\nOccasional use of vision to judge distances and spatial relationships.\\nOccasional lifting/carrying and pushing/pulling objects weighing 25-50 lbs.\\nOccasional lifting/moving patients.\\nOccasional use of smell to detect/recognize odors.\\nWork Environment\\nThis job operates in a professional office environment. This role routinely uses standard office equipment such as laptop computers, printers, copiers, and smartphones. Please note this job description is not designed to cover or contain a comprehensive listing of activities, duties or responsibilities that are required of the employee for this job. Duties, responsibilities, and activities may change at any time with or without notice.\\nShow more\\nShow less                                                                                                                                                                                                                                                                                                                                                                                                                                                                                                                                                                                                                                                                                                                                                                                                                                                                                                                                                                                                                                                                                                                                                                                                                                                                                                                                                                                                                                                                                                                                                            |\n",
            "|https://www.linkedin.com/jobs/view/registered-nurse-cath-lab-at-stonesprings-hospital-center-3799543261  |Description\\nIntroduction\\nAre you looking for a place to deliver excellent care patients deserve? At StoneSprings Hospital Center we support our colleagues in their positions. Join our Team as a(an) Registered Nurse Cath Lab and access programs to assist with every stage of your career.\\nBenefits\\nStoneSprings Hospital Center, offers a total rewards package that supports the health, life, career and retirement of our colleagues. The available plans and programs include:\\nComprehensive medical coverage that covers many common services at no cost or for a low copay. Plans include prescription drug and behavioral health coverage as well as free telemedicine services and free AirMed medical transportation.\\nAdditional options for dental and vision benefits, life and disability coverage, flexible spending accounts, supplemental health protection plans (accident, critical illness, hospital indemnity), auto and home insurance, identity theft protection, legal counseling, long-term care coverage, moving assistance, pet insurance and more.\\nFree counseling services and resources for emotional, physical and financial wellbeing\\n401(k) Plan with a 100% match on 3% to 9% of pay (based on years of service)\\nEmployee Stock Purchase Plan with 10% off HCA Healthcare stock\\nFamily support through fertility and family building benefits with Progyny and adoption assistance.\\nReferral services for child, elder and pet care, home and auto repair, event planning and more\\nConsumer discounts through Abenity and Consumer Discounts\\nRetirement readiness, rollover assistance services and preferred banking partnerships\\nEducation assistance (tuition, student loan, certification support, dependent scholarships)\\nColleague recognition program\\nTime Away From Work Program (paid time off, paid family leave, long- and short-term disability coverage and leaves of absence)\\nEmployee Health Assistance Fund that offers free employee-only coverage to full-time and part-time colleagues based on income.\\nLearn More About Employee Benefits\\nNote: Eligibility for benefits may vary by location.\\nAre you a continuous learner? With more than 94,000 nurses throughout HCA Healthcare, we are one of the largest employers of nurses in the United States. Education is key to excellence! As a majority owner of Galen College of Nursing, which joins Research College of Nursing and Mercy School of Nursing as educational facilities within the HCA Healthcare family, we make it easier and more affordable to gain certifications and job skills. Apply today for our Registered Nurse Cath Lab opening and continue to learn!\\nAs a Registered Nurse (RN) in the Cardiac Catheterization Lab, we see about Cath lab and Intentional Radiology patients. We provide the highest level of care from the onset of symptoms through diagnosis and treatment. Our team provides care for patients providing information, assisting with complications, administering medication, guidance and hands-on care.\\nAs a member of our team your will be responsible for assessing, planning, implementing, evaluating and documenting all aspects of patient care.\\nYou will work closely with all health care providers to facilitate and coordinate efficient, effective, quality health care including patient discharge.\\nOur team interprets patient information and makes decisions about necessary actions.\\nAs a member of our team, you will coordinate a patient’s discharge planning needs with members of the healthcare team.\\nAdvanced Cardiac Life Spt must be obtained within 90 days of employment start date\\nBasic Cardiac Life Support must be obtained within 30 days of employment start date\\nRegistered Nurse\\nRegistered Nurse Diploma\\nStoneSprings Hospital Center\\nhas provided quality healthcare services since 2015. We give patient's access to trained physicians and advanced technology. Our\\n120+ bed hospital\\nis one of the region's leading acute care facilities in Loudoun County. Our medical services includes a full-service 24/7 Emergency Department, orthopedics, advanced heart and vascular care, extensive diagnostic imaging and interventional radiology capabilities, minimally invasive robotic surgery and maternal/child health.\\nAt StoneSprings Hospital Center, our care like family culture extends to our patients, our people and our community. We are committed to each other because when we join together, our patients are cared for in the safest and most compassionate way.\\nHCA Healthcare has been recognized as one of the World’s Most Ethical Companies® by the Ethisphere Institute more than ten times. In recent years, HCA Healthcare spent an estimated $3.7 billion in cost for the delivery of charitable care, uninsured discounts, and other uncompensated expenses.\\n\"Good people beget good people.\"- Dr. Thomas Frist, Sr.\\nHCA Healthcare Co-Founder\\nIf growth and continued learning is important to you, we encourage you to apply for our Registered Nurse Cath Lab opening. Our team will promptly review your application. Highly qualified candidates will be contacted for interviews.\\nUnlock the possibilities apply today!\\nWe are an equal opportunity employer and value diversity at our company. We do not discriminate on the basis of race, religion, color, national origin, gender, sexual orientation, age, marital status, veteran status, or disability status.\\nShow more\\nShow less|\n",
            "|https://uk.linkedin.com/jobs/view/commercial-account-executive-at-the-recruit-lab-3805254225             |Commercial account executive\\nSheffield\\nFull time/ permanent\\n£30k-40k + OTE (depending on experience).\\nAn exciting opportunity has arisen for a driven and ambitious Commercial Account Executive to join a well-established insurance company based in Sheffield.\\nWe are looking for someone with a ‘little black book’ that can really drive the new business side of this branch. Progression in inevitable!!!\\nMUST have at least 4 years’ experience in a Commercial Account Executive or Business Development environment. We will also consider Broker experience for the right candidate.\\nKey Responsibilities:\\nProvide quotations for new business and assist with the growth plans of the Sheffield Branch.\\nDeal with clients over the phone, in person and via e-mail to ensure that client retention and sales targets are maximised.\\nEnsure that all product information provided is clear, fair, and not misleading, allowing the customer to make an informed decision.\\nEnsure that telephone calls are answered & dealt with promptly & efficiently.\\nMaintain thorough and accurate records of all customer interactions.\\nIdentify complaints and refer to the necessary complaint handler.\\nDeal with equerries by email, telephone and in person ensuring that all SLAs are adhered to.\\nThe ideal candidate:\\nGood communication skills\\nCharismatic\\nGood ability to build and maintain relationships.\\nIT literate\\nManage time effectively; with the ability to work under pressure\\nOrganisational skills\\nStrong negotiation and interpersonal skills\\nArticulate & Numerate\\nQualifications & Experience\\nMust have 4 years minimum experience working within a commercial sale broking or underwriting environment.\\nGCSE or equivalent qualifications preferred.\\nCertificate in insurance preferred but not required.\\nWhat’s on offer:\\nCasual dress\\nCompany pension\\n20 days holiday + Birthday + bank holidays\\nMonday to Friday 9-5\\nFull-time - permanent\\nBonus scheme\\nCareer progression\\n(Benefits are currently being evaluated and will be added to very soon due to the expansion of the company)\\nVery exciting times ahead for this growing company, so why not get on board with the team now!\\nAt LAB, we are committed to equal opportunities for everyone. We embrace diversity and believe that a balanced, inclusive workforce is crucial to our business. We do not tolerate discrimination, harassment or bullying towards any candidates or employees. We are proud to be an equal opportunities employer. Due to the high volume of applications, we may receive, it is not always possible to respond to unsuccessful applicants. Therefore, if we have not responded to your application, please assume that on this occasion your application has not been successful at this time, and we wish you the best of luck with your search\\nShow more\\nShow less                                                                                                                                                                                                                                                                                                                                                                                                                                                                                                                                                                                                                                                                                                                                                                                                                                                                                                                                                                                                                                                                                                                                                                                                                                                                                                                                                                                                                                                                                                                                                                                                                                                                                                                                                                                                                                                                                                                                                                                                                                                                                                                                                                                                                                                                                                                                                                                                                                                                                                                                                                                                                                              |\n",
            "|https://www.linkedin.com/jobs/view/store-manager-at-stop-shop-3782135496                                 |Address:\\nUSA-CT-Newington-44 Fenn Road\\nStore Code:\\nSS - Human Resources Brands (2765625)\\nAt Stop & Shop, we are dedicated to creating and maintaining a culture where the diverse backgrounds and experiences of our associates are celebrated, and all associates feel they belong and thrive. We work as one team to break down barriers, put the customer first and show that we care for our customers, communities and each other. At Stop & Shop, we're here to feed all of life's moments, and we've made a promise to our customers to help them make the small wins possible every day.\\nPrimary Responsibilities\\nCreate a culture of best-in-class customer service to ensure exceptional service level interaction\\nPromote a positive environment which is sensitive and responsive to both our internal and external customers\\nResponsible for compliance with local, state, and federal laws as well as internal audits\\nExpected to act as coach and facilitator in delegating and empowering his/her team to manage and be held accountable for daily operations of their departments\\nAccountable for providing strong, positive, and pro-active leadership to his/her team while providing direction, feedback, and holding them accountable for performance and results\\nResponsible for total store operations\\nOther responsibilities include Proven track record of people development, Diversity, and Labor Relations; Customer / Legendary Service; Profitability; Merchandising and Sales; Payroll and Productivity; Community Relations; Administration; Strategic Business Planning; and Sanitation/Safety\\nEssential Skills:\\nKnowledge of all departments within store\\nKnowledge of safe food handling\\nExcellent communication, verbal, and written skills\\nExceptional interpersonal, planning and organizing, and leadership skills\\nHighly motivated, results-oriented, and a self-starter\\nAbility to influence and communicate cross functionally\\nDemonstrated leadership and management skills\\nExceptional analytical and strategic planning skills with a strong attention to detail\\nHigh level of customer service skills\\nEffective organizational, time management and delegation skills\\nStop & Shop is an equal opportunity employer. We comply with all applicable federal, state and local laws. Qualified applicants are considered without regard to sex, race, color, ancestry, national origin, citizenship status, religion, age, marital status (including civil unions), military service, veteran status, pregnancy (including childbirth and related medical conditions), genetic information, sexual orientation, gender identity, legally recognized disability, domestic violence victim status or any other characteristic protected by law.\\nJob Requisition: 355474_external_USA-CT-Newington\\nShow more\\nShow less                                                                                                                                                                                                                                                                                                                                                                                                                                                                                                                                                                                                                                                                                                                                                                                                                                                                                                                                                                                                                                                                                                                                                                                                                                                                                                                                                                                                                                                                                                                                                                                                                                                                                                                                                                                                                                                                                                                                                                                                                                                                                                                                                                                                                                                                                                                                                                                                                                                                                                                                                                                                                                                                                    |\n",
            "+---------------------------------------------------------------------------------------------------------+----------------------------------------------------------------------------------------------------------------------------------------------------------------------------------------------------------------------------------------------------------------------------------------------------------------------------------------------------------------------------------------------------------------------------------------------------------------------------------------------------------------------------------------------------------------------------------------------------------------------------------------------------------------------------------------------------------------------------------------------------------------------------------------------------------------------------------------------------------------------------------------------------------------------------------------------------------------------------------------------------------------------------------------------------------------------------------------------------------------------------------------------------------------------------------------------------------------------------------------------------------------------------------------------------------------------------------------------------------------------------------------------------------------------------------------------------------------------------------------------------------------------------------------------------------------------------------------------------------------------------------------------------------------------------------------------------------------------------------------------------------------------------------------------------------------------------------------------------------------------------------------------------------------------------------------------------------------------------------------------------------------------------------------------------------------------------------------------------------------------------------------------------------------------------------------------------------------------------------------------------------------------------------------------------------------------------------------------------------------------------------------------------------------------------------------------------------------------------------------------------------------------------------------------------------------------------------------------------------------------------------------------------------------------------------------------------------------------------------------------------------------------------------------------------------------------------------------------------------------------------------------------------------------------------------------------------------------------------------------------------------------------------------------------------------------------------------------------------------------------------------------------------------------------------------------------------------------------------------------------------------------------------------------------------------------------------------------------------------------------------------------------------------------------------------------------------------------------------------------------------------------------------------------------------------------------------------------------------------------------------------------------------------------------------------------------------------------------------------------------------------------------------------------------------------------------------------------------------------------------------------------------------------------------------------------------------------------------------------------------------------------------------------------------------------------------------------------------------------------------------------------------------------------------------------------------------------------------------------------------------------------------------------------------------------------------------------------------------------------------------------------------------------------------------------------------------------------------------------------------------------------------------------------------------------------------------------------------------------------------------------------------------------------------------------------------------------------------------------------------------------------------------------------------------------------------------------------------------------------------------------------------------------------------------------------------------------------------------------------------------------------------------------------------------------------------------------------------------------------------------------------------------------------------------------------------------------------------------------------------------------------------------------------------------------------------------------------------------------------------------------------------------------------------------------------------------------------------------------------------------------------------------------------------------------------------------+\n",
            "only showing top 5 rows\n",
            "\n"
          ]
        }
      ],
      "source": [
        "# Printing the top 5 rows using .show() function\n",
        "df.show(5, truncate=False)"
      ]
    },
    {
      "cell_type": "code",
      "execution_count": 11,
      "id": "Bs27rw1CmLXY",
      "metadata": {
        "colab": {
          "base_uri": "https://localhost:8080/"
        },
        "id": "Bs27rw1CmLXY",
        "outputId": "eaeeaa19-459f-475f-b083-976a4641bf68"
      },
      "outputs": [
        {
          "output_type": "stream",
          "name": "stdout",
          "text": [
            "root\n",
            " |-- job_link: string (nullable = true)\n",
            " |-- job_summary: string (nullable = true)\n",
            "\n"
          ]
        }
      ],
      "source": [
        "#checking the Schema of the df\n",
        "df.printSchema()"
      ]
    },
    {
      "cell_type": "code",
      "execution_count": 12,
      "id": "5sn7cfyanLKB",
      "metadata": {
        "colab": {
          "base_uri": "https://localhost:8080/"
        },
        "id": "5sn7cfyanLKB",
        "outputId": "3560ec83-67be-4ad4-bba3-3378dea3cb0e"
      },
      "outputs": [
        {
          "output_type": "execute_result",
          "data": {
            "text/plain": [
              "1297332"
            ]
          },
          "metadata": {},
          "execution_count": 12
        }
      ],
      "source": [
        "#extracting number of rows from the df dataframe\n",
        "df.count()"
      ]
    },
    {
      "cell_type": "code",
      "execution_count": 13,
      "id": "AHWTt-gQpKMc",
      "metadata": {
        "colab": {
          "base_uri": "https://localhost:8080/"
        },
        "id": "AHWTt-gQpKMc",
        "outputId": "00b9cd4a-0614-4823-b9f2-3577173f1779"
      },
      "outputs": [
        {
          "output_type": "execute_result",
          "data": {
            "text/plain": [
              "DataFrame[summary: string, job_link: string, job_summary: string]"
            ]
          },
          "metadata": {},
          "execution_count": 13
        }
      ],
      "source": [
        "df.describe()"
      ]
    },
    {
      "cell_type": "code",
      "execution_count": 14,
      "id": "ISUSyX-spP6P",
      "metadata": {
        "colab": {
          "base_uri": "https://localhost:8080/"
        },
        "id": "ISUSyX-spP6P",
        "outputId": "b70f954c-2527-4f62-e8d7-96e1b7100f8e"
      },
      "outputs": [
        {
          "output_type": "stream",
          "name": "stdout",
          "text": [
            "+-------+--------------------+--------------------+\n",
            "|summary|            job_link|         job_summary|\n",
            "+-------+--------------------+--------------------+\n",
            "|  count|             1297332|             1297332|\n",
            "|   mean|                NULL|                NULL|\n",
            "| stddev|                NULL|                NULL|\n",
            "|    min|https://ae.linked...|! CURRENTLY SEEKI...|\n",
            "|    max|https://za.linked...|🪠 We invite full...|\n",
            "+-------+--------------------+--------------------+\n",
            "\n"
          ]
        }
      ],
      "source": [
        "#performing a summary statistics calculation on the DataFrame df\n",
        "df.describe().show()"
      ]
    },
    {
      "cell_type": "code",
      "execution_count": 15,
      "id": "e1ab1de0-65fc-4b17-a580-f6b060960110",
      "metadata": {
        "colab": {
          "base_uri": "https://localhost:8080/"
        },
        "id": "e1ab1de0-65fc-4b17-a580-f6b060960110",
        "outputId": "4681c7a1-6a89-4c77-acc7-d81795f78086"
      },
      "outputs": [
        {
          "output_type": "stream",
          "name": "stdout",
          "text": [
            "Requirement already satisfied: pandas in /usr/local/lib/python3.10/dist-packages (2.0.3)\n",
            "Requirement already satisfied: python-dateutil>=2.8.2 in /usr/local/lib/python3.10/dist-packages (from pandas) (2.8.2)\n",
            "Requirement already satisfied: pytz>=2020.1 in /usr/local/lib/python3.10/dist-packages (from pandas) (2023.4)\n",
            "Requirement already satisfied: tzdata>=2022.1 in /usr/local/lib/python3.10/dist-packages (from pandas) (2024.1)\n",
            "Requirement already satisfied: numpy>=1.21.0 in /usr/local/lib/python3.10/dist-packages (from pandas) (1.25.2)\n",
            "Requirement already satisfied: six>=1.5 in /usr/local/lib/python3.10/dist-packages (from python-dateutil>=2.8.2->pandas) (1.16.0)\n"
          ]
        }
      ],
      "source": [
        "!pip install pandas"
      ]
    },
    {
      "cell_type": "code",
      "execution_count": 16,
      "id": "1a1513e8-8ffe-41e7-bc8f-8638a9bc4df0",
      "metadata": {
        "colab": {
          "base_uri": "https://localhost:8080/"
        },
        "id": "1a1513e8-8ffe-41e7-bc8f-8638a9bc4df0",
        "outputId": "2094d722-8c0f-483a-db0b-f49936039073"
      },
      "outputs": [
        {
          "output_type": "stream",
          "name": "stdout",
          "text": [
            "Collecting datasketch\n",
            "  Downloading datasketch-1.6.4-py3-none-any.whl (88 kB)\n",
            "\u001b[?25l     \u001b[90m━━━━━━━━━━━━━━━━━━━━━━━━━━━━━━━━━━━━━━━━\u001b[0m \u001b[32m0.0/88.3 kB\u001b[0m \u001b[31m?\u001b[0m eta \u001b[36m-:--:--\u001b[0m\r\u001b[2K     \u001b[91m━━━━━━━━━━━━━━━━━━━━━━━━━━━━━━━━━━━━━\u001b[0m\u001b[90m╺\u001b[0m\u001b[90m━━\u001b[0m \u001b[32m81.9/88.3 kB\u001b[0m \u001b[31m2.3 MB/s\u001b[0m eta \u001b[36m0:00:01\u001b[0m\r\u001b[2K     \u001b[90m━━━━━━━━━━━━━━━━━━━━━━━━━━━━━━━━━━━━━━━━\u001b[0m \u001b[32m88.3/88.3 kB\u001b[0m \u001b[31m2.1 MB/s\u001b[0m eta \u001b[36m0:00:00\u001b[0m\n",
            "\u001b[?25hRequirement already satisfied: numpy>=1.11 in /usr/local/lib/python3.10/dist-packages (from datasketch) (1.25.2)\n",
            "Requirement already satisfied: scipy>=1.0.0 in /usr/local/lib/python3.10/dist-packages (from datasketch) (1.11.4)\n",
            "Installing collected packages: datasketch\n",
            "Successfully installed datasketch-1.6.4\n"
          ]
        }
      ],
      "source": [
        "!pip install datasketch"
      ]
    },
    {
      "cell_type": "code",
      "execution_count": 17,
      "id": "orMJkYx3yAmy",
      "metadata": {
        "id": "orMJkYx3yAmy"
      },
      "outputs": [],
      "source": [
        "import pandas as pd\n",
        "from datasketch import MinHash, MinHashLSH\n",
        "\n",
        "\n",
        "# Preprocessing function to tokenize and clean text\n",
        "def preprocess_text(text):\n",
        "    # Tokenizing the text and removing punctuation/stopwords\n",
        "    tokens = text.lower().split()\n",
        "    tokens = [token.strip(\",.!?\") for token in tokens]\n",
        "    return tokens"
      ]
    },
    {
      "cell_type": "code",
      "execution_count": 18,
      "id": "mK9hybSayi8F",
      "metadata": {
        "id": "mK9hybSayi8F"
      },
      "outputs": [],
      "source": [
        "from pyspark.sql.functions import udf\n",
        "from pyspark.sql.types import ArrayType, StringType\n",
        "from pyspark.ml.feature import Tokenizer\n",
        "\n",
        "# Register preprocessing function as a UDF\n",
        "preprocess_text_udf = udf(preprocess_text, ArrayType(StringType()))\n",
        "\n",
        "# Apply preprocessing\n",
        "df = df.withColumn(\"preprocessed_text\", preprocess_text_udf(\"job_summary\"))\n"
      ]
    },
    {
      "cell_type": "code",
      "execution_count": 19,
      "id": "hwRv-Rha2C9z",
      "metadata": {
        "colab": {
          "base_uri": "https://localhost:8080/"
        },
        "id": "hwRv-Rha2C9z",
        "outputId": "e64b6837-0cf9-40f8-8936-2ef7d523c9d2"
      },
      "outputs": [
        {
          "output_type": "stream",
          "name": "stdout",
          "text": [
            "+--------------------+--------------------+--------------------+\n",
            "|            job_link|         job_summary|   preprocessed_text|\n",
            "+--------------------+--------------------+--------------------+\n",
            "|https://www.linke...|Rock N Roll Sushi...|[rock, n, roll, s...|\n",
            "|https://www.linke...|Schedule\\n: PRN i...|[schedule, :, prn...|\n",
            "|https://www.linke...|Description\\nIntr...|[description, int...|\n",
            "|https://uk.linked...|Commercial accoun...|[commercial, acco...|\n",
            "|https://www.linke...|Address:\\nUSA-CT-...|[address:, usa-ct...|\n",
            "|https://www.linke...|Description\\nOur\\...|[description, our...|\n",
            "|https://www.linke...|Company Descripti...|[company, descrip...|\n",
            "|https://uk.linked...|An exciting oppor...|[an, exciting, op...|\n",
            "|https://www.linke...|Job Details:\\nJob...|[job, details:, j...|\n",
            "|https://www.linke...|Our\\nRestaurant T...|[our, restaurant,...|\n",
            "|https://www.linke...|Our General Manag...|[our, general, ma...|\n",
            "|https://www.linke...|Earning potential...|[earning, potenti...|\n",
            "|https://www.linke...|Dollar General Co...|[dollar, general,...|\n",
            "|https://au.linked...|Restaurant Descri...|[restaurant, desc...|\n",
            "|https://au.linked...|Who We Are\\nWe ar...|[who, we, are, we...|\n",
            "|https://www.linke...|A Place Where Peo...|[a, place, where,...|\n",
            "|https://www.linke...|Description\\nThe ...|[description, the...|\n",
            "|https://www.linke...|Overview\\nDescrip...|[overview, descri...|\n",
            "|https://www.linke...|Description\\nThe ...|[description, the...|\n",
            "|https://www.linke...|Laboratory Techni...|[laboratory, tech...|\n",
            "+--------------------+--------------------+--------------------+\n",
            "only showing top 20 rows\n",
            "\n"
          ]
        }
      ],
      "source": [
        "#visualizing the preprocessed_text in the df\n",
        "df.show()"
      ]
    },
    {
      "cell_type": "code",
      "execution_count": 20,
      "id": "GXo-eUX4yDBd",
      "metadata": {
        "id": "GXo-eUX4yDBd"
      },
      "outputs": [],
      "source": [
        "# Function for Generating shingles from text\n",
        "def generate_shingles(text, k=3):\n",
        "    tokens = preprocess_text(text)\n",
        "    shingles = set()\n",
        "    for i in range(len(tokens) - k + 1):\n",
        "        shingle = \" \".join(tokens[i:i+k])\n",
        "        shingles.add(shingle)\n",
        "    return shingles"
      ]
    },
    {
      "cell_type": "code",
      "execution_count": 21,
      "id": "TTAZoa7940Ny",
      "metadata": {
        "id": "TTAZoa7940Ny"
      },
      "outputs": [],
      "source": [
        "# Define a UDF for generating shingles\n",
        "generate_shingles_udf = udf(lambda text: list(generate_shingles(\" \".join(text))), ArrayType(StringType()))\n",
        "\n",
        "# Apply the UDF to generate shingles\n",
        "df = df.withColumn(\"shingles\", generate_shingles_udf(\"preprocessed_text\"))"
      ]
    },
    {
      "cell_type": "code",
      "execution_count": 22,
      "id": "1mxtv0R348_X",
      "metadata": {
        "colab": {
          "base_uri": "https://localhost:8080/"
        },
        "id": "1mxtv0R348_X",
        "outputId": "62690d37-6b03-4cba-8151-4b53400e4621"
      },
      "outputs": [
        {
          "output_type": "stream",
          "name": "stdout",
          "text": [
            "+--------------------+--------------------+--------------------+--------------------+\n",
            "|            job_link|         job_summary|   preprocessed_text|            shingles|\n",
            "+--------------------+--------------------+--------------------+--------------------+\n",
            "|https://www.linke...|Rock N Roll Sushi...|[rock, n, roll, s...|[manager as our, ...|\n",
            "|https://www.linke...|Schedule\\n: PRN i...|[schedule, :, prn...|[with or without,...|\n",
            "|https://www.linke...|Description\\nIntr...|[description, int...|[of our team, gen...|\n",
            "|https://uk.linked...|Commercial accoun...|[commercial, acco...|[deal with client...|\n",
            "|https://www.linke...|Address:\\nUSA-CT-...|[address:, usa-ct...|[which is sensiti...|\n",
            "|https://www.linke...|Description\\nOur\\...|[description, our...|[trademark of the...|\n",
            "|https://www.linke...|Company Descripti...|[company, descrip...|[waiting for you,...|\n",
            "|https://uk.linked...|An exciting oppor...|[an, exciting, op...|[work our benefit...|\n",
            "|https://www.linke...|Job Details:\\nJob...|[job, details:, j...|[inspection: to b...|\n",
            "|https://www.linke...|Our\\nRestaurant T...|[our, restaurant,...|[trademark of the...|\n",
            "|https://www.linke...|Our General Manag...|[our, general, ma...|[reasonable accom...|\n",
            "|https://www.linke...|Earning potential...|[earning, potenti...|[plus tips read, ...|\n",
            "|https://www.linke...|Dollar General Co...|[dollar, general,...|[accountability a...|\n",
            "|https://au.linked...|Restaurant Descri...|[restaurant, desc...|[environment qual...|\n",
            "|https://au.linked...|Who We Are\\nWe ar...|[who, we, are, we...|[to “see more, pr...|\n",
            "|https://www.linke...|A Place Where Peo...|[a, place, where,...|[gender sexual or...|\n",
            "|https://www.linke...|Description\\nThe ...|[description, the...|[culture embodies...|\n",
            "|https://www.linke...|Overview\\nDescrip...|[overview, descri...|[team and our, te...|\n",
            "|https://www.linke...|Description\\nThe ...|[description, the...|[in your career, ...|\n",
            "|https://www.linke...|Laboratory Techni...|[laboratory, tech...|[visitors peers a...|\n",
            "+--------------------+--------------------+--------------------+--------------------+\n",
            "only showing top 20 rows\n",
            "\n"
          ]
        }
      ],
      "source": [
        "#visualizing the shingles in the df\n",
        "df.show()"
      ]
    },
    {
      "cell_type": "code",
      "execution_count": 23,
      "id": "XOLJlwAcyPfM",
      "metadata": {
        "id": "XOLJlwAcyPfM"
      },
      "outputs": [],
      "source": [
        "# Functions for Generating MinHash signatures\n",
        "def generate_minhash_signature(shingles, num_perm=128 , pd=1):\n",
        "    m = MinHash(num_perm=num_perm)\n",
        "    for shingle in shingles:\n",
        "        m.update(shingle.encode('utf8'))\n",
        "    if pd == 1:\n",
        "      return m\n",
        "    else:\n",
        "      return m.hashvalues.tolist()\n",
        "\n",
        "\n"
      ]
    },
    {
      "cell_type": "code",
      "execution_count": 24,
      "id": "hZGfqLo-5dRy",
      "metadata": {
        "id": "hZGfqLo-5dRy"
      },
      "outputs": [],
      "source": [
        "# Define a UDF for generating MinHash signatures\n",
        "generate_minhash_signature_udf = udf(lambda shingles: generate_minhash_signature(shingles,pd=0), ArrayType(IntegerType()))\n",
        "\n",
        "# Apply the UDF to generate MinHash signatures\n",
        "df = df.withColumn(\"minhash_signature\", generate_minhash_signature_udf(\"shingles\"))\n",
        "\n"
      ]
    },
    {
      "cell_type": "code",
      "execution_count": 25,
      "id": "IB3Hi7hv5gSq",
      "metadata": {
        "colab": {
          "base_uri": "https://localhost:8080/"
        },
        "id": "IB3Hi7hv5gSq",
        "outputId": "cd9767fb-2e8b-42e4-a4ec-c36c1f073c91"
      },
      "outputs": [
        {
          "output_type": "stream",
          "name": "stdout",
          "text": [
            "+--------------------+--------------------+--------------------+--------------------+--------------------+\n",
            "|            job_link|         job_summary|   preprocessed_text|            shingles|   minhash_signature|\n",
            "+--------------------+--------------------+--------------------+--------------------+--------------------+\n",
            "|https://www.linke...|Rock N Roll Sushi...|[rock, n, roll, s...|[manager as our, ...|[11828880, 127397...|\n",
            "|https://www.linke...|Schedule\\n: PRN i...|[schedule, :, prn...|[with or without,...|[24590172, 338962...|\n",
            "|https://www.linke...|Description\\nIntr...|[description, int...|[of our team, gen...|[2339457, 405833,...|\n",
            "|https://uk.linked...|Commercial accoun...|[commercial, acco...|[deal with client...|[12111891, 770449...|\n",
            "|https://www.linke...|Address:\\nUSA-CT-...|[address:, usa-ct...|[which is sensiti...|[16115718, 241234...|\n",
            "|https://www.linke...|Description\\nOur\\...|[description, our...|[trademark of the...|[5596544, 1689762...|\n",
            "|https://www.linke...|Company Descripti...|[company, descrip...|[waiting for you,...|[4967175, 7388128...|\n",
            "|https://uk.linked...|An exciting oppor...|[an, exciting, op...|[work our benefit...|[2864930, 3452124...|\n",
            "|https://www.linke...|Job Details:\\nJob...|[job, details:, j...|[inspection: to b...|[20293144, 199179...|\n",
            "|https://www.linke...|Our\\nRestaurant T...|[our, restaurant,...|[trademark of the...|[5596544, 1689762...|\n",
            "|https://www.linke...|Our General Manag...|[our, general, ma...|[reasonable accom...|[5960276, 2580504...|\n",
            "|https://www.linke...|Earning potential...|[earning, potenti...|[plus tips read, ...|[2626071, 1195333...|\n",
            "|https://www.linke...|Dollar General Co...|[dollar, general,...|[accountability a...|[8350941, 1186654...|\n",
            "|https://au.linked...|Restaurant Descri...|[restaurant, desc...|[environment qual...|[3443667, 4065102...|\n",
            "|https://au.linked...|Who We Are\\nWe ar...|[who, we, are, we...|[to “see more, pr...|[2390057, 1657170...|\n",
            "|https://www.linke...|A Place Where Peo...|[a, place, where,...|[gender sexual or...|[8299573, 2648709...|\n",
            "|https://www.linke...|Description\\nThe ...|[description, the...|[culture embodies...|[141399, 4510482,...|\n",
            "|https://www.linke...|Overview\\nDescrip...|[overview, descri...|[team and our, te...|[30081319, 706022...|\n",
            "|https://www.linke...|Description\\nThe ...|[description, the...|[in your career, ...|[3772747, 2580504...|\n",
            "|https://www.linke...|Laboratory Techni...|[laboratory, tech...|[visitors peers a...|[11714803, 258050...|\n",
            "+--------------------+--------------------+--------------------+--------------------+--------------------+\n",
            "only showing top 20 rows\n",
            "\n"
          ]
        }
      ],
      "source": [
        "#visualizing the minhash_signatures in the df\n",
        "df.show()"
      ]
    },
    {
      "cell_type": "code",
      "execution_count": 26,
      "id": "FykYHETZySRl",
      "metadata": {
        "id": "FykYHETZySRl"
      },
      "outputs": [],
      "source": [
        "# Defining function to Create MinHash LSH index\n",
        "def create_lsh_index(data, num_perm=128, threshold=0.5):\n",
        "    lsh = MinHashLSH(threshold=threshold, num_perm=num_perm)\n",
        "    minhashes = {}\n",
        "    for index, row in data.iterrows():\n",
        "        shingles = generate_shingles(row['job_summary'])\n",
        "        minhash = generate_minhash_signature(shingles, num_perm)\n",
        "        minhashes[index] = minhash\n",
        "        lsh.insert(index, minhash)\n",
        "    return lsh, minhashes"
      ]
    },
    {
      "cell_type": "code",
      "execution_count": 27,
      "id": "5m2j43r41bLi",
      "metadata": {
        "id": "5m2j43r41bLi"
      },
      "outputs": [],
      "source": [
        "# Function to Find similar job descriptions using LSH\n",
        "def find_similar_jobs(data, lsh, minhashes, num_perm=128):\n",
        "    similar_pairs = []\n",
        "    for index, row in data.iterrows():\n",
        "        shingles = generate_shingles(row['job_summary'])\n",
        "        minhash = generate_minhash_signature(shingles, num_perm)\n",
        "        candidates = lsh.query(minhash)\n",
        "        for candidate in candidates:\n",
        "            if candidate != index:\n",
        "                jaccard = minhashes[index].jaccard(minhashes[candidate])\n",
        "                if jaccard > 0.5:\n",
        "                    similar_pairs.append((index, candidate))\n",
        "    return similar_pairs\n",
        "\n"
      ]
    },
    {
      "cell_type": "code",
      "source": [
        "chunk_size = 10000\n",
        "lsh = None\n",
        "minhashes = {}\n",
        "similar_pairs = []\n",
        "\n",
        "df_similar_pairs = pd.DataFrame(columns=['RowNumber1', 'JobSummary1','RowNumber2',  'JobSummary2'])\n",
        "\n",
        "# Initialize an empty list to collect dictionaries.\n",
        "data_to_append = []\n",
        "\n",
        "for chunk in pd.read_csv(file_path, chunksize=chunk_size):\n",
        "    if lsh is None:\n",
        "        lsh, minhashes = create_lsh_index(chunk)\n",
        "    else:\n",
        "        for index, row in chunk.iterrows():\n",
        "            shingles = generate_shingles(row['job_summary'])\n",
        "            minhash = generate_minhash_signature(shingles)\n",
        "            minhashes[index] = minhash\n",
        "            lsh.insert(index, minhash)\n",
        "    for pair in find_similar_jobs(chunk, lsh, minhashes):\n",
        "        idx1, idx2 = pair\n",
        "        if pair not in similar_pairs:\n",
        "            job_summary1 = chunk.iloc[idx1]['job_summary']\n",
        "            job_summary2 = chunk.iloc[idx2]['job_summary']\n",
        "            similar_pairs.append(pair)\n",
        "            # Append to the list instead of DataFrame.\n",
        "            data_to_append.append({\n",
        "                'RowNumber1': idx1+1,\n",
        "                'JobSummary1': job_summary1,\n",
        "                'RowNumber2': idx2+1,\n",
        "                'JobSummary2': job_summary2\n",
        "            })\n",
        "    break\n",
        "\n",
        "# Convert the list of dictionaries to a DataFrame and append it to df_similar_pairs.\n",
        "new_rows = pd.DataFrame(data_to_append)\n",
        "df_similar_pairs = pd.concat([df_similar_pairs, new_rows], ignore_index=True)\n",
        "\n",
        "print(df_similar_pairs)\n"
      ],
      "metadata": {
        "colab": {
          "base_uri": "https://localhost:8080/"
        },
        "id": "jnCJDTD3drE-",
        "outputId": "3286e0f5-2834-4fcc-d7c5-0e3909674b94"
      },
      "id": "jnCJDTD3drE-",
      "execution_count": 29,
      "outputs": [
        {
          "output_type": "stream",
          "name": "stdout",
          "text": [
            "      RowNumber1                                        JobSummary1  \\\n",
            "0              5  Address:\\nUSA-CT-Newington-44 Fenn Road\\nStore...   \n",
            "1              5  Address:\\nUSA-CT-Newington-44 Fenn Road\\nStore...   \n",
            "2              5  Address:\\nUSA-CT-Newington-44 Fenn Road\\nStore...   \n",
            "3              5  Address:\\nUSA-CT-Newington-44 Fenn Road\\nStore...   \n",
            "4              6  Description\\nOur\\nRestaurant Team/Shift Leader...   \n",
            "...          ...                                                ...   \n",
            "86331       9997  LICENSED MARRIAGE AND FAMILY THERAPIST NEEDED ...   \n",
            "86332       9998  Mental Health Counselor positions FT/PT -\\nRes...   \n",
            "86333       9998  Mental Health Counselor positions FT/PT -\\nRes...   \n",
            "86334       9998  Mental Health Counselor positions FT/PT -\\nRes...   \n",
            "86335      10000  Job Description\\nShare Share Share\\nSecondary ...   \n",
            "\n",
            "      RowNumber2                                        JobSummary2  \n",
            "0           6342  Address:\\nUSA-RI-Johnston-11 Commerce Way\\nSto...  \n",
            "1           6096  Address:\\nUSA-RI-Cranston-204 Garfield Ave\\nSt...  \n",
            "2           2097  Address:\\nUSA-RI-Providence-165 Pitnam Street\\...  \n",
            "3           1818  Address:\\nUSA-RI-Narragansett-91 Point Judith ...  \n",
            "4            519  Description\\nOur\\nRestaurant Team/Shift Leader...  \n",
            "...          ...                                                ...  \n",
            "86331       9845  LICENSED MARRIAGE AND FAMILY THERAPIST NEEDED ...  \n",
            "86332       6122  Walden Behavioral Care is one of the only rapi...  \n",
            "86333       9659  Walden Behavioral Care is one of the only rapi...  \n",
            "86334       9773  Walden Behavioral Care is one of the only rapi...  \n",
            "86335       9563  Job Description\\nShare Share Share\\nSecondary ...  \n",
            "\n",
            "[86336 rows x 4 columns]\n"
          ]
        }
      ]
    },
    {
      "cell_type": "code",
      "execution_count": 30,
      "id": "LVVfh_yN2IsH",
      "metadata": {
        "colab": {
          "base_uri": "https://localhost:8080/",
          "height": 363
        },
        "id": "LVVfh_yN2IsH",
        "outputId": "8f925863-6a4a-4dc9-b239-e25f1a33f805"
      },
      "outputs": [
        {
          "output_type": "execute_result",
          "data": {
            "text/plain": [
              "  RowNumber1                                        JobSummary1 RowNumber2  \\\n",
              "0          5  Address:\\nUSA-CT-Newington-44 Fenn Road\\nStore...       6342   \n",
              "1          5  Address:\\nUSA-CT-Newington-44 Fenn Road\\nStore...       6096   \n",
              "2          5  Address:\\nUSA-CT-Newington-44 Fenn Road\\nStore...       2097   \n",
              "3          5  Address:\\nUSA-CT-Newington-44 Fenn Road\\nStore...       1818   \n",
              "4          6  Description\\nOur\\nRestaurant Team/Shift Leader...        519   \n",
              "5          6  Description\\nOur\\nRestaurant Team/Shift Leader...        776   \n",
              "6          6  Description\\nOur\\nRestaurant Team/Shift Leader...        775   \n",
              "7          6  Description\\nOur\\nRestaurant Team/Shift Leader...         10   \n",
              "8          6  Description\\nOur\\nRestaurant Team/Shift Leader...        537   \n",
              "9          6  Description\\nOur\\nRestaurant Team/Shift Leader...        159   \n",
              "\n",
              "                                         JobSummary2  \n",
              "0  Address:\\nUSA-RI-Johnston-11 Commerce Way\\nSto...  \n",
              "1  Address:\\nUSA-RI-Cranston-204 Garfield Ave\\nSt...  \n",
              "2  Address:\\nUSA-RI-Providence-165 Pitnam Street\\...  \n",
              "3  Address:\\nUSA-RI-Narragansett-91 Point Judith ...  \n",
              "4  Description\\nOur\\nRestaurant Team/Shift Leader...  \n",
              "5  Description\\nOur\\nRestaurant Team/Shift Leader...  \n",
              "6  Our\\nRestaurant Team/Shift Leaders\\nhave a dua...  \n",
              "7  Our\\nRestaurant Team/Shift Leaders\\nhave a dua...  \n",
              "8  Description\\nOur\\nRestaurant Team/Shift Leader...  \n",
              "9  Description\\nOur\\nRestaurant Team/Shift Leader...  "
            ],
            "text/html": [
              "\n",
              "  <div id=\"df-638f7ed9-9416-4ae2-a047-4c197de406b1\" class=\"colab-df-container\">\n",
              "    <div>\n",
              "<style scoped>\n",
              "    .dataframe tbody tr th:only-of-type {\n",
              "        vertical-align: middle;\n",
              "    }\n",
              "\n",
              "    .dataframe tbody tr th {\n",
              "        vertical-align: top;\n",
              "    }\n",
              "\n",
              "    .dataframe thead th {\n",
              "        text-align: right;\n",
              "    }\n",
              "</style>\n",
              "<table border=\"1\" class=\"dataframe\">\n",
              "  <thead>\n",
              "    <tr style=\"text-align: right;\">\n",
              "      <th></th>\n",
              "      <th>RowNumber1</th>\n",
              "      <th>JobSummary1</th>\n",
              "      <th>RowNumber2</th>\n",
              "      <th>JobSummary2</th>\n",
              "    </tr>\n",
              "  </thead>\n",
              "  <tbody>\n",
              "    <tr>\n",
              "      <th>0</th>\n",
              "      <td>5</td>\n",
              "      <td>Address:\\nUSA-CT-Newington-44 Fenn Road\\nStore...</td>\n",
              "      <td>6342</td>\n",
              "      <td>Address:\\nUSA-RI-Johnston-11 Commerce Way\\nSto...</td>\n",
              "    </tr>\n",
              "    <tr>\n",
              "      <th>1</th>\n",
              "      <td>5</td>\n",
              "      <td>Address:\\nUSA-CT-Newington-44 Fenn Road\\nStore...</td>\n",
              "      <td>6096</td>\n",
              "      <td>Address:\\nUSA-RI-Cranston-204 Garfield Ave\\nSt...</td>\n",
              "    </tr>\n",
              "    <tr>\n",
              "      <th>2</th>\n",
              "      <td>5</td>\n",
              "      <td>Address:\\nUSA-CT-Newington-44 Fenn Road\\nStore...</td>\n",
              "      <td>2097</td>\n",
              "      <td>Address:\\nUSA-RI-Providence-165 Pitnam Street\\...</td>\n",
              "    </tr>\n",
              "    <tr>\n",
              "      <th>3</th>\n",
              "      <td>5</td>\n",
              "      <td>Address:\\nUSA-CT-Newington-44 Fenn Road\\nStore...</td>\n",
              "      <td>1818</td>\n",
              "      <td>Address:\\nUSA-RI-Narragansett-91 Point Judith ...</td>\n",
              "    </tr>\n",
              "    <tr>\n",
              "      <th>4</th>\n",
              "      <td>6</td>\n",
              "      <td>Description\\nOur\\nRestaurant Team/Shift Leader...</td>\n",
              "      <td>519</td>\n",
              "      <td>Description\\nOur\\nRestaurant Team/Shift Leader...</td>\n",
              "    </tr>\n",
              "    <tr>\n",
              "      <th>5</th>\n",
              "      <td>6</td>\n",
              "      <td>Description\\nOur\\nRestaurant Team/Shift Leader...</td>\n",
              "      <td>776</td>\n",
              "      <td>Description\\nOur\\nRestaurant Team/Shift Leader...</td>\n",
              "    </tr>\n",
              "    <tr>\n",
              "      <th>6</th>\n",
              "      <td>6</td>\n",
              "      <td>Description\\nOur\\nRestaurant Team/Shift Leader...</td>\n",
              "      <td>775</td>\n",
              "      <td>Our\\nRestaurant Team/Shift Leaders\\nhave a dua...</td>\n",
              "    </tr>\n",
              "    <tr>\n",
              "      <th>7</th>\n",
              "      <td>6</td>\n",
              "      <td>Description\\nOur\\nRestaurant Team/Shift Leader...</td>\n",
              "      <td>10</td>\n",
              "      <td>Our\\nRestaurant Team/Shift Leaders\\nhave a dua...</td>\n",
              "    </tr>\n",
              "    <tr>\n",
              "      <th>8</th>\n",
              "      <td>6</td>\n",
              "      <td>Description\\nOur\\nRestaurant Team/Shift Leader...</td>\n",
              "      <td>537</td>\n",
              "      <td>Description\\nOur\\nRestaurant Team/Shift Leader...</td>\n",
              "    </tr>\n",
              "    <tr>\n",
              "      <th>9</th>\n",
              "      <td>6</td>\n",
              "      <td>Description\\nOur\\nRestaurant Team/Shift Leader...</td>\n",
              "      <td>159</td>\n",
              "      <td>Description\\nOur\\nRestaurant Team/Shift Leader...</td>\n",
              "    </tr>\n",
              "  </tbody>\n",
              "</table>\n",
              "</div>\n",
              "    <div class=\"colab-df-buttons\">\n",
              "\n",
              "  <div class=\"colab-df-container\">\n",
              "    <button class=\"colab-df-convert\" onclick=\"convertToInteractive('df-638f7ed9-9416-4ae2-a047-4c197de406b1')\"\n",
              "            title=\"Convert this dataframe to an interactive table.\"\n",
              "            style=\"display:none;\">\n",
              "\n",
              "  <svg xmlns=\"http://www.w3.org/2000/svg\" height=\"24px\" viewBox=\"0 -960 960 960\">\n",
              "    <path d=\"M120-120v-720h720v720H120Zm60-500h600v-160H180v160Zm220 220h160v-160H400v160Zm0 220h160v-160H400v160ZM180-400h160v-160H180v160Zm440 0h160v-160H620v160ZM180-180h160v-160H180v160Zm440 0h160v-160H620v160Z\"/>\n",
              "  </svg>\n",
              "    </button>\n",
              "\n",
              "  <style>\n",
              "    .colab-df-container {\n",
              "      display:flex;\n",
              "      gap: 12px;\n",
              "    }\n",
              "\n",
              "    .colab-df-convert {\n",
              "      background-color: #E8F0FE;\n",
              "      border: none;\n",
              "      border-radius: 50%;\n",
              "      cursor: pointer;\n",
              "      display: none;\n",
              "      fill: #1967D2;\n",
              "      height: 32px;\n",
              "      padding: 0 0 0 0;\n",
              "      width: 32px;\n",
              "    }\n",
              "\n",
              "    .colab-df-convert:hover {\n",
              "      background-color: #E2EBFA;\n",
              "      box-shadow: 0px 1px 2px rgba(60, 64, 67, 0.3), 0px 1px 3px 1px rgba(60, 64, 67, 0.15);\n",
              "      fill: #174EA6;\n",
              "    }\n",
              "\n",
              "    .colab-df-buttons div {\n",
              "      margin-bottom: 4px;\n",
              "    }\n",
              "\n",
              "    [theme=dark] .colab-df-convert {\n",
              "      background-color: #3B4455;\n",
              "      fill: #D2E3FC;\n",
              "    }\n",
              "\n",
              "    [theme=dark] .colab-df-convert:hover {\n",
              "      background-color: #434B5C;\n",
              "      box-shadow: 0px 1px 3px 1px rgba(0, 0, 0, 0.15);\n",
              "      filter: drop-shadow(0px 1px 2px rgba(0, 0, 0, 0.3));\n",
              "      fill: #FFFFFF;\n",
              "    }\n",
              "  </style>\n",
              "\n",
              "    <script>\n",
              "      const buttonEl =\n",
              "        document.querySelector('#df-638f7ed9-9416-4ae2-a047-4c197de406b1 button.colab-df-convert');\n",
              "      buttonEl.style.display =\n",
              "        google.colab.kernel.accessAllowed ? 'block' : 'none';\n",
              "\n",
              "      async function convertToInteractive(key) {\n",
              "        const element = document.querySelector('#df-638f7ed9-9416-4ae2-a047-4c197de406b1');\n",
              "        const dataTable =\n",
              "          await google.colab.kernel.invokeFunction('convertToInteractive',\n",
              "                                                    [key], {});\n",
              "        if (!dataTable) return;\n",
              "\n",
              "        const docLinkHtml = 'Like what you see? Visit the ' +\n",
              "          '<a target=\"_blank\" href=https://colab.research.google.com/notebooks/data_table.ipynb>data table notebook</a>'\n",
              "          + ' to learn more about interactive tables.';\n",
              "        element.innerHTML = '';\n",
              "        dataTable['output_type'] = 'display_data';\n",
              "        await google.colab.output.renderOutput(dataTable, element);\n",
              "        const docLink = document.createElement('div');\n",
              "        docLink.innerHTML = docLinkHtml;\n",
              "        element.appendChild(docLink);\n",
              "      }\n",
              "    </script>\n",
              "  </div>\n",
              "\n",
              "\n",
              "<div id=\"df-ea63f396-909e-47e4-9c4b-3d60b3330360\">\n",
              "  <button class=\"colab-df-quickchart\" onclick=\"quickchart('df-ea63f396-909e-47e4-9c4b-3d60b3330360')\"\n",
              "            title=\"Suggest charts\"\n",
              "            style=\"display:none;\">\n",
              "\n",
              "<svg xmlns=\"http://www.w3.org/2000/svg\" height=\"24px\"viewBox=\"0 0 24 24\"\n",
              "     width=\"24px\">\n",
              "    <g>\n",
              "        <path d=\"M19 3H5c-1.1 0-2 .9-2 2v14c0 1.1.9 2 2 2h14c1.1 0 2-.9 2-2V5c0-1.1-.9-2-2-2zM9 17H7v-7h2v7zm4 0h-2V7h2v10zm4 0h-2v-4h2v4z\"/>\n",
              "    </g>\n",
              "</svg>\n",
              "  </button>\n",
              "\n",
              "<style>\n",
              "  .colab-df-quickchart {\n",
              "      --bg-color: #E8F0FE;\n",
              "      --fill-color: #1967D2;\n",
              "      --hover-bg-color: #E2EBFA;\n",
              "      --hover-fill-color: #174EA6;\n",
              "      --disabled-fill-color: #AAA;\n",
              "      --disabled-bg-color: #DDD;\n",
              "  }\n",
              "\n",
              "  [theme=dark] .colab-df-quickchart {\n",
              "      --bg-color: #3B4455;\n",
              "      --fill-color: #D2E3FC;\n",
              "      --hover-bg-color: #434B5C;\n",
              "      --hover-fill-color: #FFFFFF;\n",
              "      --disabled-bg-color: #3B4455;\n",
              "      --disabled-fill-color: #666;\n",
              "  }\n",
              "\n",
              "  .colab-df-quickchart {\n",
              "    background-color: var(--bg-color);\n",
              "    border: none;\n",
              "    border-radius: 50%;\n",
              "    cursor: pointer;\n",
              "    display: none;\n",
              "    fill: var(--fill-color);\n",
              "    height: 32px;\n",
              "    padding: 0;\n",
              "    width: 32px;\n",
              "  }\n",
              "\n",
              "  .colab-df-quickchart:hover {\n",
              "    background-color: var(--hover-bg-color);\n",
              "    box-shadow: 0 1px 2px rgba(60, 64, 67, 0.3), 0 1px 3px 1px rgba(60, 64, 67, 0.15);\n",
              "    fill: var(--button-hover-fill-color);\n",
              "  }\n",
              "\n",
              "  .colab-df-quickchart-complete:disabled,\n",
              "  .colab-df-quickchart-complete:disabled:hover {\n",
              "    background-color: var(--disabled-bg-color);\n",
              "    fill: var(--disabled-fill-color);\n",
              "    box-shadow: none;\n",
              "  }\n",
              "\n",
              "  .colab-df-spinner {\n",
              "    border: 2px solid var(--fill-color);\n",
              "    border-color: transparent;\n",
              "    border-bottom-color: var(--fill-color);\n",
              "    animation:\n",
              "      spin 1s steps(1) infinite;\n",
              "  }\n",
              "\n",
              "  @keyframes spin {\n",
              "    0% {\n",
              "      border-color: transparent;\n",
              "      border-bottom-color: var(--fill-color);\n",
              "      border-left-color: var(--fill-color);\n",
              "    }\n",
              "    20% {\n",
              "      border-color: transparent;\n",
              "      border-left-color: var(--fill-color);\n",
              "      border-top-color: var(--fill-color);\n",
              "    }\n",
              "    30% {\n",
              "      border-color: transparent;\n",
              "      border-left-color: var(--fill-color);\n",
              "      border-top-color: var(--fill-color);\n",
              "      border-right-color: var(--fill-color);\n",
              "    }\n",
              "    40% {\n",
              "      border-color: transparent;\n",
              "      border-right-color: var(--fill-color);\n",
              "      border-top-color: var(--fill-color);\n",
              "    }\n",
              "    60% {\n",
              "      border-color: transparent;\n",
              "      border-right-color: var(--fill-color);\n",
              "    }\n",
              "    80% {\n",
              "      border-color: transparent;\n",
              "      border-right-color: var(--fill-color);\n",
              "      border-bottom-color: var(--fill-color);\n",
              "    }\n",
              "    90% {\n",
              "      border-color: transparent;\n",
              "      border-bottom-color: var(--fill-color);\n",
              "    }\n",
              "  }\n",
              "</style>\n",
              "\n",
              "  <script>\n",
              "    async function quickchart(key) {\n",
              "      const quickchartButtonEl =\n",
              "        document.querySelector('#' + key + ' button');\n",
              "      quickchartButtonEl.disabled = true;  // To prevent multiple clicks.\n",
              "      quickchartButtonEl.classList.add('colab-df-spinner');\n",
              "      try {\n",
              "        const charts = await google.colab.kernel.invokeFunction(\n",
              "            'suggestCharts', [key], {});\n",
              "      } catch (error) {\n",
              "        console.error('Error during call to suggestCharts:', error);\n",
              "      }\n",
              "      quickchartButtonEl.classList.remove('colab-df-spinner');\n",
              "      quickchartButtonEl.classList.add('colab-df-quickchart-complete');\n",
              "    }\n",
              "    (() => {\n",
              "      let quickchartButtonEl =\n",
              "        document.querySelector('#df-ea63f396-909e-47e4-9c4b-3d60b3330360 button');\n",
              "      quickchartButtonEl.style.display =\n",
              "        google.colab.kernel.accessAllowed ? 'block' : 'none';\n",
              "    })();\n",
              "  </script>\n",
              "</div>\n",
              "    </div>\n",
              "  </div>\n"
            ],
            "application/vnd.google.colaboratory.intrinsic+json": {
              "type": "dataframe",
              "variable_name": "df_similar_pairs",
              "summary": "{\n  \"name\": \"df_similar_pairs\",\n  \"rows\": 86336,\n  \"fields\": [\n    {\n      \"column\": \"RowNumber1\",\n      \"properties\": {\n        \"dtype\": \"date\",\n        \"min\": 5,\n        \"max\": 10000,\n        \"num_unique_values\": 4729,\n        \"samples\": [\n          485,\n          9521,\n          8703\n        ],\n        \"semantic_type\": \"\",\n        \"description\": \"\"\n      }\n    },\n    {\n      \"column\": \"JobSummary1\",\n      \"properties\": {\n        \"dtype\": \"category\",\n        \"num_unique_values\": 3252,\n        \"samples\": [\n          \"Summary\\nThis part-time Psychologist position is located in the Mental Health Service Line at the Minneapolis. The psychologist will provide diagnostic interviews, assessments, psychotherapy, multidiscipline consultation, and treatment coordination for adult patients with obesity and possible disordered eating through MOVE Program and Facility/Community Based Outpatient Clinics. In addition, the psychologist may complete psychological and cognitive assessments (i.e., obesity, bariatric) as needed.\\nLearn more about this agency\\nHelp\\nDuties\\nThis is an\\nOPEN CONTINOUS ANNOUNCEMEN\\nT\\n. We are accepting applications on an ongoing basis; applicants will be reviewed on a weekly basis, as long as the vacancy exists.\\nThis position is eligible for\\nthe Education Debt Reduction Program (EDRP),\\na student loan payment reimbursement program. You must meet specific individual eligibility requirements in accordance with VHA policy and submit your EDRP application within four months of appointment.\\nApproval, award amount (up to $200,000) and eligibility period (one to five years) are determined by the VHA Education Loan Repayment Services program office after complete review of the EDRP application.\\nMajor duties include, but are not limited to:\\nClinical Responsibilities:\\nProvides a full range of psycho-diagnostic services including assessment and using the most appropriate psychotherapeutic techniques in providing quality care in support of the MOVE program.\\nMay perform evaluations for patients with mood, anxiety, and a range of general mental health issues that are integrated on Primary Care PACT Teams.\\nProvides a full range of therapeutic interventions including individual, couple/family, and group psychotherapy; psycho-educational groups focused on behavioral approaches to weight management; and treatment coordination. Uses evidence-based interventions.\\nConsults with medical center staff on a wide variety of patient care issues.\\nAttempts to stay current with assessment and therapy techniques by reviewing and/or participating in research; and by promoting, initiating, assisting, or engaging in program evaluation and/or basic and applied research activities.\\nAcademic/Teaching/Training:\\nMay hold faculty appointment at affiliated university (i.e. University of Minnesota).\\nMay be involved in Psychology Training Program and Training Committee.\\nProvides leadership guidance and consultation to staffs of units to which assigned.\\nMay be involved in the training of psychology practicum students, interns, and postdoctoral residents.\\nServes as a consultant to other medical center staff and trainees and assist in their formulation of the psychological characteristics and appropriate treatment expectations regarding their patients.\\nResearch/Program Evaluation:\\nOversees the establishment of program monitors and outcome measurements within programs assigned using a data-driven quality assurance processes.\\nIs responsible for timely completion of all clinical charting and documentation required by the Minneapolis VA Health Care System, as appropriate.\\nIf applicable, plans and oversees the completion of personal research programs, designed to provide information regarding program planning and relevant treatment approaches.\\nMay present outcome data and research results at VA and regional or national scientific or professional meetings.\\nOther Significant Responsibilities:\\nServes on Medical Center and committees or task forces as assigned\\nWork Schedule\\n: 8:00AM - 4:30PM, days to be determined upon hire.\\nTelework\\n: Telework, if approved, will be on an Ad-Hoc basis only.\\nVirtual:\\nThis is not a virtual position.\\nRecruitment Incentive\\n: Not Authorized\\nEDRP Authorized:\\nContact vhavisn23edrp@va.gov, the EDRP Coordinator for questions/assistance. Learn more\\nFinancial Disclosure Report:\\nNot required\\nHelp\\nRequirements\\nConditions of Employment\\nYou must be a U.S. Citizen to apply for this job.\\nAll applicants tentatively selected for VA employment in a testing designated position are subject to urinalysis to screen for illegal drug use prior to appointment. Applicants who refuse to be tested will be denied employment with VA.\\nSelective Service Registration is required for males born after 12/31/1959.\\nMust be proficient in written and spoken English.\\nYou may be required to serve a probationary period.\\nSubject to background/security investigation.\\nSelected applicants will be required to complete an online onboarding process.\\nMust pass pre-employment physical examination.\\nParticipation in the seasonal influenza vaccination program is a requirement for all Department of Veterans Affairs Health Care Personnel (HCP).\\nParticipation in the Coronavirus Disease 2019 (COVID-19) vaccination program is a requirement for all Veterans Health Administration Health Care Personnel (HCP) - See \\\"Additional Information\\\" below for details.\\nQualifications\\nApplicants pending the completion of educational or certification/licensure requirements may be referred and tentatively selected but may not be hired until all requirements are met.\\nBasic Requirements\\n:\\nUnited States Citizenship:\\nNon-citizens may only be appointed when it is not possible to recruit qualified citizens in accordance with VA Policy.\\nEducation:\\nDoctoral degree in psychology from a graduate program in psychology accredited by the American Psychological Association (APA), the Psychological Clinical Science Accreditation System (PCSAS), or the Canadian Psychological Association (CPA) at the time the program was completed. The specialty area of the degree must be consistent with the assignment for which the applicant is to be employed.\\nOR\\nHave a doctoral degree in any area of psychology and, in addition, successfully complete a re-specialization program (including documentation of an approved internship completed as part of the re-specialization program) meeting both of the following conditions:\\nthe re-specialization program must be completed in an APA or a CPA accredited doctoral program;\\nand\\nthe specialty in which the applicant is retrained must be consistent with the assignment for which the applicant is to be employed.\\nNOTE:\\nThe applicant must provide an official transcript and/or certificate documenting the completion of the re-specialization program, which includes completion of an APA or CPA internship.\\nOR\\nHave a doctoral degree awarded between 1951 and 1978 from a regionally-accredited institution, with a dissertation primarily psychological in nature.\\nAND\\nInternship:\\nHave successfully completed a professional psychology internship training program that was accredited by APA or CPA at the time the program was completed and that is consistent with the assignment for which the applicant is to be employed.\\nOR\\nNew VHA psychology internship programs that are in the process of applying for APA accreditation are acceptable in fulfillment of the internship requirement, provided that such programs were sanctioned by the VHA Central Office Program Director for Psychology and the VHA Office of Academic Affiliations at the time that the individual was an intern;\\nOR\\nVHA facilities that offered full-time, one-year pre-doctoral internships prior to PL 96-151 (pre-1979) are considered to be acceptable in fulfillment of the internship requirement;\\nOR\\nApplicants who completed an internship that was not accredited by APA or CPA at the time the program was completed may be considered eligible for hire only if they are currently board certified by the American Board of Professional Psychology in a specialty area that is consistent with the assignment for which the applicant is to be employed. (\\nNOTE:\\nOnce board certified, the employee is required to maintain board certification.)\\nOR\\nApplicants who have a doctoral degree awarded between 1951 and 1978 from a regionally-accredited institution with a dissertation primarily psychological in nature may fulfill this internship requirement by having the equivalent of a one-year supervised internship experience in a site specifically acceptable to the candidate's doctoral program. If the internship experience is not noted on the applicant's official transcript, the applicant must provide a statement from the doctoral program verifying that the equivalent of a one-year supervised internship experience was completed in a site acceptable to the doctoral program.\\nLicensure:\\nHold a full, current, and unrestricted license to practice psychology at the doctoral level in a State, Territory, or Commonwealth of the United States, or the District of Columbia.\\nException: Non-licensed applicants who otherwise meet the eligibility requirements may be given a temporary appointment as a \\\"graduate psychologist\\\" at the GS-11 or GS-12 grade under the authority of 38 U.S.C. 7405 [(c)(2)(B)] for a period not to exceed two years from the date of employment on the condition that such a psychologist provide care only under the supervision of a psychologist who is licensed. Failure to obtain licensure during that period is justification for termination of the temporary appointment.\\nEnglish Language Proficiency: Psychologists must be proficient in spoken and written English in accordance with VA Handbook 5005, Part II, Chapter 3, section A, paragraph 3j.\\nGrade Determinations\\n:\\nGS-11 Staff Psychologist (Entry Level)\\nExperience: None beyond the basic requirements.\\nGS-12 Staff Psychologist (Developmental Level)\\nExperience. At least 1 year of experience as a professional psychologist equivalent to the next lower grade level (GS-11). Psychologists who are not licensed must practice under the supervision of a licensed psychologist but with less intense supervision than at the GS-11 grade level. In addition, the candidate must demonstrate the following KSAs:\\nKnowledge of and ability to apply a wide range of professional psychological treatments or assessment methods to a variety of patient populations.\\nAbility to design and implement effective treatment strategies.\\nAbility to incorporate new clinical procedures.\\nAbility to conduct research activities, such as designing and implementing clinical research projects (staff psychologists with specified research job duties).\\nAbility to perform basic research tasks of scholarship and research execution within the context of an established research team, including research participant relations, research documentation, data acquisition, maintenance, and collaboration (staff psychologists with specified research job duties).\\nGS-13 Staff Psychologist (Full Performance Level)\\nExperience. At least 2 years of experience as a professional psychologist, with at least one year equivalent to the GS-12 level. In addition to the experience above, the candidate must demonstrate the following KSAs:\\nKnowledge of, and ability to apply, professional psychological treatments to the full range of patient populations.\\nAbility to provide professional advice and consultation in areas related to professional psychology and behavioral health.\\nKnowledge of clinical research literature.\\nReferences:\\nVA handbook 5005 Part II appendix G18\\nThe full performance level of this vacancy is GS-13. The actual grade at which an applicant may be selected for this vacancy is in the range of GS-11 to GS-13.\\nPhysical Requirements:\\nYou will be asked to participate in a pre-employment examination or evaluation as part of the pre-employment process for this position. Questions about physical demands or environmental factors may be addressed at the time of evaluation or examination.\\nEducation\\nIMPORTANT:\\nA transcript must be submitted with your application.\\nNote:\\nOnly education or degrees recognized by the U.S. Department of Education from accredited colleges, universities, schools, or institutions may be used to qualify for Federal employment. You can verify your education here: http://ope.ed.gov/accreditation/. If you are using foreign education to meet qualification requirements, you must send a Certificate of Foreign Equivalency with your transcript in order to receive credit for that education. For further information, visit: http://www.ed.gov/about/offices/list/ous/international/usnei/us/edlite-visitus-forrecog.html.\\nAdditional information\\nThe VA Midwest Health Care Network advocates for a Whole Health System of care in each of the Medical Centers. This is an approach to healthcare that empowers and equips people to take charge of their health and well-being and live their lives to the fullest. As an employee operating in a Whole Health System of care, you will operate in a model with three core elements, seeking to create a personalized health plan for each Veteran. This is done in the context of healing relationships and healing environments and a connection back to the Veteran's community. This aligns with the Veterans Health Administration (VHA) Mission Statement to Honor America's Veterans by providing exceptional health care that improves their health and well-being.\\nReceiving Service Credit or Earning Annual (Vacation) Leave: Federal Employees earn annual leave at a rate (4, 6 or 8 hours per pay period) which is based on the number of years they have served as a Federal employee. Selected applicants may qualify for credit toward annual leave accrual, based on prior work experience or military service experience. This credited service can be used in determining the rate at which they earn annual leave. Such credit must be requested and approved prior to the appointment date and is not guaranteed.\\nThis job opportunity announcement may be used to fill additional vacancies.\\nThis position is in the Excepted Service and does not confer competitive status.\\nVA encourages persons with disabilities to apply. The health-related positions in VA are covered by Title 38, and are not covered by the Schedule A excepted appointment authority.\\nPursuant to VHA Directive 1193.01, VHA health care personnel (HCP) are required to be fully vaccinated against COVID-19 subject to such accommodations as required by law (i.e., medical, religious or pregnancy). VHA HCPs do not include remote workers who only infrequently enter VHA locations. If selected, you will be required to be fully vaccinated against COVID-19 and submit documentation of proof of vaccination before your start date. The agency will provide additional information regarding what information or documentation will be needed and how you can request a legally required accommodation from this requirement using the reasonable accommodation process.\\nIf you are unable to apply online or need an alternate method to submit documents, please reach out to the Agency Contact listed in this Job Opportunity Announcement.\\nRead more\\nHelp A career with the U.S. government provides employees with a comprehensive benefits package. As a federal employee, you and your family will have access to a range of benefits that are designed to make your federal career very rewarding. Opens in a new windowLearn more about federal benefits.\\nReview our benefits\\nEligibility for benefits depends on the type of position you hold and whether your position is full-time, part-time or intermittent. Contact the hiring agency for more information on the specific benefits offered.\\nMinneapolis VA Medical Center\\nOne Veterans Drive\\nMinneapolis, MN 55417\\nUS\\nShow more\\nShow less\",\n          \"At Five Below our growth is a result of the people who embrace our purpose: We know life is way better when you are free to Let Go & Have Fun in an amazing experience, filled with unlimited possibilities, priced so low, you can always say yes to the newest, coolest stuff! Just ask any of our over 17,000 associates who work at Five Below and they\\u2019ll tell you there\\u2019s no other place like it. It all starts with our purpose and then, The Five Below Way, which is our values and behaviors that each and every associate believes in.\\nIt\\u2019s all about culture at Five Below, making this a place that can inspire you as much as you inspire us with big ideas, super energy, passion, and the ability to make the workplace a WOWplace!\\nResponsibilities\\nBuild a Culture of Working Back from the Customer\\nLead a growth-oriented sales culture to achieve store business performance results.\\nEnsure exceptional customer experiences through the application of the Five Below service model that empowers your crew to say yes to customers.\\nAnticipate the needs of the customer and create an amazing store environment.\\nLead execution and maintenance of all company merchandising and operational standards ensuring consistency with Brand Standards.\\nMay lead Crew Member training, execution and maintenance of all Five Below services (balloons, ear piercings, buy online pickup in store, etc...)\\nDevelop a High Performing Crew\\nHire and engage talented employees, with the necessary skills, to be at the right place (i.e., store role) at the right time.\\nEnsure people feel cared for and connected to each other and foster a culture that values and appreciates inclusion and diversity.\\nInspire accountability by providing training, coaching, and consistent feedback to your team.\\nPresent facts clearly, coach effectively, and actively listen to inspire trust and respect of direct reports.\\nPartner with District Manager and Human Resources for employee coaching / counseling, performance documentation and employee relations matters.\\nMaintain an environment that is safe for your customers and crew.\\nExecute a talent plan that makes Five Below an employer of choice, attracts quality candidates, and retains the best talent.\\nFoster career growth through individual development planning and performance coaching.\\nDevelop a peer network internally and externally to build strong recruitment and succession planning for your store.\\nDrive a Consistent Business\\nAnalyze daily, weekly, monthly business results and pursue ways to drive greater performance level of direct reports. Leverage reports and metrics to make decisions including sales, customer experience, profitability, shrink, payroll, and staffing.\\nBalance competing priorities with a recognition of what is critical.\\nDevelop and manage payroll budgets and crew schedules that balance financial responsibility with customer expectations and crew availability.\\nEnsure the proper execution of all financial management controls, critical controls, and adherence to company policies.\\nOversee successful receiving and ensure stocking procedures are properly followed and maintained.\\nEnsure the execution of physical inventory and compliance with company data integrity processes.\\nAssure that merchandise flow meets company set standards and closely monitor sell through.\\nPerform store maintenance including but not limited to taking out garbage, sweeping, cleaning bathrooms, maintaining stock room.\\nEnsure compliance with all the Five Below Standard Operating Procedures (SOP).\\nReview all corporate communications and prioritizes/plans accordingly.\\nAchieve results without compromising quality or integrity of work and adhere to company handbook and policies as well as local, state, and federal laws.\\nPerform other duties as assigned, including services.\\nThe Five Below Way\\nWow our customers: Put the customer first and make a difference in people\\u2019s lives.\\nUnleash your passion: Check your ego at the door and do what you say you will do.\\nHold the penny hostage: Treat Five Below like your own business, control expenses, and hire talent that will do the same.\\nAchieve the Impossible: Set the bar high for self and team and outperform expectations.\\nWork Hard, Have Fun, Build a Career: Come to work ready to take on the day, create a fun atmosphere and recognize the team for all the efforts.\\nQualifications\\nHigh School Graduate or equivalent\\nMinimum 3 years of management experience preferred.\\nExcellent verbal and written communication skills\\nAbility to multi-task\\nCreative thinking\\nAbility to maintain composure under pressure.\\nFive Below is an Equal Opportunity Employer\\nThe pay range for this position is $53,000 to 60,500 annually. Pay may vary based on a number of factors, including but not limited to a candidate\\u2019s job-related knowledge, skills, and experience; educational background; and geographic location. Dependent on the position offered, benefits, bonus and incentive payments, and other forms of compensation may be provided as part of a total compensation package.\\nIf you like wild growth and working with happy, enthusiastic over-achievers, you'll enjoy your career with us!\\nFive Below is an Equal Opportunity Employer.\\nBE AWARE OF FRAUD! Please be aware of potentially fraudulent job postings or suspicious recruiter activity by persons that are posing as a Five Below recruiters. Please confirm that the person you are working with has an @fivebelow.com email address. Additionally, Five Below does NOT request financial information or payments from candidates at any point during the hiring process. If you suspect fraudulent activity, please visit Five Below\\u2019s Careers Site at www.fivebelow.com/info/careers to verify the posting.\\nShow more\\nShow less\",\n          \"How to Apply\\nThe review process will begin immediately and continue until the position is filled. Applicants should send a CV and letter of interest to Emily Fredericks, PhD, Director, Division of Pediatric Psychology (emfred@med.umich.edu).\\nSummary\\nThe Division of Pediatric Psychology at C.S. Mott Children's Hospital, University of Michigan Health invites applications for pediatric psychology faculty appointments within the Department of Pediatrics at the University of Michigan Medical School. The University of Michigan is in Ann Arbor, a vibrant and diverse community consistently rated as one of the best places to live in the United States.\\nWe are seeking pediatric psychologists to join the Pediatric Psychology Inpatient Consultation-Liaison (CL) Service to provide psychosocial assessment, recommendations, and problem-focused intervention for children and adolescents who are hospitalized at C.S. Mott Children's Hospital. A portion of clinical time will also be spent in outpatient clinical services in collaboration with the Division of Pediatric Neurology, with youth diagnosed with epilepsy and functional neurological disorders.\\nThe administrative home of the successful candidate would be the Division of Pediatric Psychology, which is comprised of over 20 faculty who are fully integrated into pediatric subspecialty areas, and have close and supportive working relationships with both community pediatricians and hospital-based physician specialists. Supervision and training for pediatric psychology postdoctoral fellows, interns, advanced practicum students, pediatric house officers, and medical students is expected.\\nRequired Qualifications*\\nApplicants should possess a doctoral degree from an APA/CPA-accredited program and internship, postdoctoral training in pediatric psychology, and be licensed or license-eligible as a Psychologist in the state of Michigan. Successful applicants will have clinical experience working with children, adolescents, and families in an inpatient medical setting, with interest and experience in pediatric neurological disorders. Experience in program development, implementation, and clinical research is also desired. Faculty rank and compensation will be commensurate with qualifications and experience.\\nUnderfill Statement\\nThis is posted for Clinical Instructor-Clinical Associate Professor. Rank is determined on qualifications.\\nU-M EEO/AA Statement\\nMichigan Medicine seeks to recruit and retain a diverse workforce as a reflection of our commitment to serve the diverse people of Michigan and to maintain the excellence of the University. We welcome applications from anyone who would bring additional dimensions to the University's research, teaching, and clinical mission, including women, members of minority groups, protected veterans, and individuals with disabilities. The Department Pediatrics, like the University of Michigan as a whole, is committed to a policy of nondiscrimination and equal opportunity for all persons and will not discriminate against any individual because of race, color, national origin, age, marital status, sex, sexual orientation, gender identity, gender expression, disability, religion, height, weight, or veteran status. The University of Michigan is an Equal Employment Opportunity/Affirmative Action Employer.\\nShow more\\nShow less\"\n        ],\n        \"semantic_type\": \"\",\n        \"description\": \"\"\n      }\n    },\n    {\n      \"column\": \"RowNumber2\",\n      \"properties\": {\n        \"dtype\": \"date\",\n        \"min\": 5,\n        \"max\": 10000,\n        \"num_unique_values\": 4729,\n        \"samples\": [\n          2101,\n          8277,\n          7398\n        ],\n        \"semantic_type\": \"\",\n        \"description\": \"\"\n      }\n    },\n    {\n      \"column\": \"JobSummary2\",\n      \"properties\": {\n        \"dtype\": \"category\",\n        \"num_unique_values\": 3252,\n        \"samples\": [\n          \"Experienced Mortgage and Protection Adviser\\n-Westcliff On Sea\\u2013\\nWhat\\u2019s on offer to you as a Mortgage and Protection Adviser?\\nBasic salary range of \\u00a320000 to \\u00a328000\\nComplete on target earnings of up to \\u00a355000+ per year\\nFully uncapped commission scheme\\nGuaranteed monthly payments whilst building a pipeline, for up to 6 months\\nBMW 1 Series company car, OR \\u00a3250 monthly car allowance\\nA Company laptop, with use of our industry leading mortgage software\\nA bespoke digital marketing package, and support to grow your business\\nDedicated training and coaching to support your ongoing development from your Divisional Sales Director and business support functions; Training Team, Compliance, Admin department and in-branch team\\nA chance to build on your career, providing you with opportunities to gain more experience and knowledge to help you progress to the next level\\n\\u00ad\\u00ad\\u00ad\\u00ad\\u00ad\\u00ad\\u00ad\\u00ad\\u00ad\\u00ad\\u00ad\\u00ad\\u00ad\\u00ad\\u00ad\\u00ad\\u00ad\\u00ad\\u00ad\\u00ad\\u00ad\\u00ad\\nWhat do you need to be good at?\\nEngaging with people from all walks of life. You\\u2019re able to hold conversations to establish their needs and wants. You communicate effectively through email, phone, face to face and on videos for our social channels\\nSpinning a lot of plates, you\\u2019ve mastered multitasking and excel at managing numerous responsibilities and tasks\\nMaintaining relationships through regular contact with vendors, buyers and developers to capitalise on all opportunities whilst ensuring a high level of customer service and engagement is sustained\\nCollaborating with your peers within your branch to build relationships to assist in identifying opportunities for referrals\\nTaking accountability for your KPIs through proactively seeking new opportunities whilst maintaining existing relationships\\nStrong presence in front of a camera where you appeal to and engage with your audience to maximize your reach\\nYour Responsibilities As a Mortgage And Protection Adviser\\nGenerate and maintain your own client relationships and business, maximise in-branch opportunities and thrive within a challenging yet stimulating environment\\nFollow up on in-branch leads generated by the Estate Agency team and maximise value from each client\\nGenerate your own leads and business\\nWork in tandem with the Estate Agency team, Admin team, Training and Development team, Compliance team and Divisional Sales Director to ensure as efficient a process as possible for the client.\\nProvide exceptional client care and experience from beginning to end, going above and beyond to provide the highest possible level of customer service.\\nThe Finer Details\\nIt is essential that you currently hold CeMAP qualification, or an industry equivalent qualification.\\nExperience Of Mortgage And Protection Advising Is Essential.\\nWe are currently conducting some interviews using video software. To be eligible to proceed in our recruitment process, you will need:\\nLegal entitlement to live and work in the UK (in accordance with the Immigration Asylum and Nationality Act 2006)\\nWe\\u2019ll need evidence of your right to work in the UK, in the form of:\\nPassport/Birth Certificate\\nWe will also need\\nProof of Address\\nNational Insurance\\nFull UK Driving Licence\\nSubject to passing probationary period\\nEqual Opportunities:\\nAt Just Mortgages, variety makes our Company DNA come to life. We love people, and what's more, we love the differences that make each person who they are, we support you and encourage those differences, to make you the best person you can be. Just Mortgages are proud to be an equal opportunity workplace and we welcome all talented individuals to apply for a career with us. We are committed to equal employment opportunity regardless of race, colour, religion, sex, national origin, sexual orientation, age, citizenship, marital status, disability or gender identity.\\nIf you have a disability or special need that requires accommodation, please let our Talent Team know and we will be happy to assist to the best of our ability \\u2013 regardless of how small or large your requirement may be.\\nTo All Recruitment Agencies:\\nJust Mortgages does not accept speculative agency CVs. Please do not forward CVs to the Talent Team, Just Mortgages employees or any other company location. Just Mortgages is not responsible for any fees related to unsolicited CVs received from external recruitment sources through our Preferred Suppliers List or otherwise.\\nPrivacy Policy:\\nWe process any information you provide in accordance with our Privacy Policy which is available on the Spicerhaart website: https://www.spicerhaart.co.uk/about-us/our-people/staff-privacy-policy/\\nShow more\\nShow less\",\n          \"Gulf Coast BU - Region 07 - Market 03: 1400 Shreveport Rd, Minden, Louisiana 71055\\nAvailability - Shift/Days\\nFlexible Availability\\nMinimum Qualifications\\nThe minimum qualifications for a Store Manager are:\\nHigh School diploma or GED preferred.\\nExperience in retail sales preferred.\\nExperience to perform the essential duties, responsibilities and working in the conditions described below.\\nAbility to supervise and train for the use of equipment, tools and materials listed in the Customer Service Representative (CSR) and Assistant Site Manager (ASM) job description.\\nAbility to supervise and manage the functions listed in the CSR and ASM job description.\\nAbility to use computer, or acquire those skills necessary to use a computer at the site, which includes analysis of reports, inventory control, cash control, counseling notices, etc.\\nA valid driver\\u2019s license and adequate transportation to/from bank and corporate management meetings.\\nAbility to communicate (orally and in writing) in English.\\nPerform other duties as assigned or delegated by his/her supervisor.\\nEssential Duties, Responsibilities And Skills\\nLeadership and Management\\nRecruit, hire and train positive, enthusiastic employees, ensuring excellent customer service.\\nDevelop, manage and assign tasks appropriately to ensure the site is clean, adequately stocked, organize and well kept based on Company standards.\\nMaintain a professional and supportive image among subordinates and supervisor.\\nSchedule employees within Company guidelines to maximize customer service and maintain site image.\\nImplement non-discriminatory related management skills while hiring, training, counseling, motivating and separating employees.\\nSite Relationships\\nDevelop positive and professional relationships with all suppliers.\\nPromote excellent service and resolve customer complaints in a timely, professional manner.\\nPromote and ensure a safe, positive public image within the neighboring community.\\nTraining and Development\\nPrepare on-going and timely performance appraisals in writing for all employees, providing proper performance based feedback.\\nTrain all employees ensuring that customer service, site image and marketing execution meet Company standards.\\nTrain all employees on safety procedures and promote safety awareness.\\nCommunication\\nDevelop ways and means to ensure that all employees receive proper communication in a timely manner.\\nEstablish periodic on-going communication meetings with all site employees and the Market Manager.\\nOrganizing and Planning\\nEvaluate and develop specific action plans to address the needs of the site in order to reach the desired objectives.\\nOrganize and maintain all site files and manuals.\\nManage and supervise store employees to ensure that all required and requested reports due are completed accurately and timely.\\nManage and supervise store employees to ensure that all merchandise is stocked, attractively displayed and priced correctly.\\nEnsure that all required employment related posters and signs are in a place that is easily accessible to all employees.\\nFinancial\\nAnalyze daily sales and expense information and take appropriate action to maximize sales and net profits.\\nBudget and forecast P&L lines, as well as understand and manage merchandise margins.\\nSafeguard and account for all money received and disbursed.\\nPerform all other financial analysis necessary to maximize sales and net profits.\\nWorking Conditions\\nPerforms approximately all work indoors but will be required to work outside in order to clean parking lots, gas pumps, take out garbage, etc.\\nBe exposed to occasional cold temperature extremes while supervising or managing store employees performing occasional work in a walk-in cooler and/or freezer.\\nBe exposed to occasional noise.\\nWork with a minimum of direction and supervision.\\nAt all times work as an effective manager, supervisor and leader.\\nTHE ABOVE STATEMENTS REFLECT THE GENERAL QUALIFICATIONS/DUTIES AND/OR RESPONSIBILITIES NECESSARY TO IDENTIFY THE JOB AND ARE NOT NECESSARILY INTENDED TO SET FORTH ALL OF THE SPECIFIC REQUIREMENTS OF THE JOB.\\nNOTE: This job description may change periodically as required by business necessity, with or without advance notice to or consent by the employee.\\nCircle K is an Equal Opportunity Employer.\\nThe Company complies with the Americans with Disabilities Act (the ADA) and all state and local disability laws. Applicants with disabilities may be entitled to a reasonable accommodation under the terms of the ADA and certain state or local laws as long as it does not impose an undue hardship on the Company. Please inform the Company\\u2019s Human Resources Representative if you need assistance completing any forms or to otherwise participate in the application process.\\nClick below to review information about our company's use of the federal E-Verify program to check work eligibility:\\nIn English\\nIn Spanish\\nR365246\\nShow more\\nShow less\",\n          \"About Robin AI\\nRobin AI is on a mission to revolutionize the legal industry by simplifying contracts and making law accessible to everyone. We utilize cutting-edge machine learning and contract software, enhancing traditional legal services and bringing together experts in engineering, AI, and law. Robin AI has recently raised $26m in Series B funding and has seen an impressive 5x revenue growth in the last 12 months.\\nWe're looking for passionate, resourceful and collaborative people to join Robin. If you're motivated about leveraging technology to make essential business services more accessible, come join us!\\nAbout This Role\\nAs one of our first Engineering Managers, you will have the unique chance to shape the role and define what that looks like at Robin AI over time\\n.\\nOur ambitions go way beyond reviewing contracts. We want to build technology that changes the way companies all over the world do deals by developing ground-breaking products that transform the way legal teams operate.\\nWith our ambitious product vision, you will have ample opportunities to grow your career as an Engineering Manager, scaling our engineering team and shaping the future of our engineering processes. You'll make meaningful decisions on our technical direction and work with engineers to implement them. You'll drive key initiatives for the Machine Learning chapter and identify how we can do things better. This role offers the chance to implement real change at a fast-growing legal tech start up that's transforming an industry.\\nOur Tech Stack\\nWe incorporate Large Language Models (LLMs) from third-party vendors (some of them not yet released to the public!)\\nOur in-house model training pipelines incorporate two ecosystems - HuggingFace Transformers and scikit-learn.\\nWe use AWS services such as Sagemaker, ECS and Lambda to make these models available for use in our products (which are also hosted on AWS).\\nWe use CircleCI to build and deploy, and all of our infrastructure is managed using Terraform.\\nWhat You'll Do\\nDefine the vision and identify ways of improving our cutting-edge Machine Learning capabilities. This could be from identifying new approaches from research papers, using our datasets in new, innovative ways, or through horizon scanning for emerging technologies and industry trends.\\nIdentify ways to use our data most effectively, streamline our training pipelines and help define best practices with a medium to long-term view. Coordinate with Product Managers and other key stakeholders across our Engineering and Product squads, to plan and implement an ambitious roadmap for our Machine Learning capabilities.\\nManage a team of Machine Learning Engineers; promote growth through feedback and help each team member achieve their potential by supporting them through their journey at Robin.\\nScale our Machine Learning function through inclusive hiring. You will spearhead our initiative to diversify our talent pipeline by building relationships with coding bootcamps, network groups and beyond.\\nChampion a collaborative engineering culture where people feel empowered to push boundaries, take ownership and drive real change.\\nQualifications\\nYou have been responsible for defining the strategy and roadmap of Machine Learning capabilities .\\nYou are comfortable contributing in all areas of the Machine Learning lifecycle, from requirements gathering all the way to deploying to production and monitoring.\\nYou have an in-depth understanding of all aspects of Machine Learning, including feature engineering, model architectures, training algorithms and evaluation metrics.\\nYou have experience designing Production-grade services and components to expose Machine Learning capabilities, utilising a variety of tools and technologies. You have a holistic understanding of AWS (or another cloud provider).\\nYou have managed a team of engineers, and developing the careers and skills of your direct reports is your passion. You take time to understand your teams career goals and what is important to them. You foster a great engineering culture by ensuring trust, honesty and openness within your team.\\nCompensation At Robin AI\\nSalary: \\u00a3120,000-\\u00a3160,000\\nGenerous Equity package: When you help build Robin AI, everyone deserves to be an owner.\\nPlease Note: If your salary expectations look a little different to that outlined, we'd still be keen to hear from you if this is a role that excites you and one that you think you could really excel in.\\nBenefits At Robin AI\\nAt Robin AI, we put humanity first\\u2014 we believe a great product is inextricably linked to a great internal community.\\nWe're a quickly growing, cross-functional team that values supporting each other's development. As part of the team, you can expect:\\n25 days PTO, excluding bank holidays, cultural leave, and birthday leave\\nUnlimited, trust-based sick leave\\nEnhanced gender-neutral parental leave\\nTechnology to enable you to work seamlessly from the office or home\\nFocus on continual learning and development\\nFree healthy breakfast on Tuesdays, cinnamon rolls on Thursdays, and a fridge of beverages ordered to request!\\nRobin's flexible work model aims to meet the needs of our diverse employee community by making work more flexible, connected, and inclusive. Depending on the role and needs of the team, Robin employees have the flexibility to work from home 4 days per week.\\nRobin is deliberate about the culture we are building and are committed to creating an inclusive environment that attracts the best talent from diverse backgrounds. Whether it's helping curate the Robin Spotify playlist, discussing gender equality in tech, or taking a meditation break with our holistic health plan, we want you to find your space within the Robin community.\\nFrom our offices in Liverpool Street, London you'll have access to all of the WeWork amenities including co-working space, bike lockers, pool tables, table tennis, free barista-made coffee and free beer in the evenings.\\nDiversity, equity and Inclusion at Robin AI\\nWe want to break diversity, inclusion and equality barriers within the tech industry. In building our team, we welcome the unique contributions that you can bring, and welcome applications regardless of ethnicity, religion, sexual orientation, gender identity and expression, disability, education, opinions, nation of origin, languages spoken, age, pregnancy and maternity, or veteran's status. To request reasonable accommodation, we encourage you to communicate any reasonable accommodations you may need to your recruiter as you move forward.\\nTo access Robin AI' s Privacy Policy, which contains information regarding data collected from job applicants and how we use it, please click here\\n: Robin AI - Privacy Policy\\nShow more\\nShow less\"\n        ],\n        \"semantic_type\": \"\",\n        \"description\": \"\"\n      }\n    }\n  ]\n}"
            }
          },
          "metadata": {},
          "execution_count": 30
        }
      ],
      "source": [
        "df_similar_pairs.head(10)"
      ]
    },
    {
      "cell_type": "code",
      "source": [],
      "metadata": {
        "id": "NYNcb1zwF2AE"
      },
      "id": "NYNcb1zwF2AE",
      "execution_count": null,
      "outputs": []
    }
  ],
  "metadata": {
    "colab": {
      "provenance": []
    },
    "kernelspec": {
      "display_name": "Python 3 (ipykernel)",
      "language": "python",
      "name": "python3"
    },
    "language_info": {
      "codemirror_mode": {
        "name": "ipython",
        "version": 3
      },
      "file_extension": ".py",
      "mimetype": "text/x-python",
      "name": "python",
      "nbconvert_exporter": "python",
      "pygments_lexer": "ipython3",
      "version": "3.8.5"
    }
  },
  "nbformat": 4,
  "nbformat_minor": 5
}
